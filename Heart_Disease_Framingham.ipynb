{
  "nbformat": 4,
  "nbformat_minor": 0,
  "metadata": {
    "kernelspec": {
      "display_name": "Python 3",
      "language": "python",
      "name": "python3"
    },
    "language_info": {
      "codemirror_mode": {
        "name": "ipython",
        "version": 3
      },
      "file_extension": ".py",
      "mimetype": "text/x-python",
      "name": "python",
      "nbconvert_exporter": "python",
      "pygments_lexer": "ipython3",
      "version": "3.7.2"
    },
    "colab": {
      "name": "Heart Disease Framingham.ipynb",
      "provenance": [],
      "collapsed_sections": [],
      "toc_visible": true
    }
  },
  "cells": [
    {
      "cell_type": "markdown",
      "metadata": {
        "id": "X5KJmEfIJWKH"
      },
      "source": [
        "# Heart Disease Framingham"
      ]
    },
    {
      "cell_type": "markdown",
      "metadata": {
        "id": "YO3tKh9nHKps"
      },
      "source": [
        "## Introduction\n",
        "\n",
        "\n"
      ]
    },
    {
      "cell_type": "markdown",
      "metadata": {
        "id": "chuxRbBcH9X3"
      },
      "source": [
        "### Problem\n",
        "\n",
        "The World Health Organization has estimated 12 million deaths occur worldwide, every year due to Heart diseases. Half the deaths in the United States and other developed countries are due to cardio vascular diseases. The early prognosis of cardiovascular diseases can aid in making decisions on lifestyle changes in high risk patients and in turn reduce the complications. This project will compare the performance of different models and try to improve the predictive performance."
      ]
    },
    {
      "cell_type": "markdown",
      "metadata": {
        "id": "iwDo8MVfHPEz"
      },
      "source": [
        "### Source \n",
        "\n",
        "The dataset is publically available on the Kaggle website, and it is from an ongoing cardiovascular study on residents of the town of Framingham, Massachusetts. The classification goal is to predict whether the patient has 10-year risk of future coronary heart disease (CHD).The dataset provides the patients’ information. It includes over 4,000 records and 15 attributes. Variables Each attribute is a potential risk factor. There are both demographic, behavioral and medical risk factors."
      ]
    },
    {
      "cell_type": "markdown",
      "metadata": {
        "id": "gaEpWlrXH2Ap"
      },
      "source": [
        "## Logistic Regression Model"
      ]
    },
    {
      "cell_type": "code",
      "metadata": {
        "id": "bTC6KZksJWKJ",
        "colab": {
          "base_uri": "https://localhost:8080/",
          "height": 162
        },
        "outputId": "0995914e-58cb-4efa-f1b2-d94e2d6f9af2"
      },
      "source": [
        "import pandas as pd\n",
        "\n",
        "df = pd.read_csv('https://raw.githubusercontent.com/soltaniehha/Intro-to-Data-Analytics/master/data/AnalyticsEdge-Datasets/Framingham.csv')\n",
        "df.head(3)"
      ],
      "execution_count": null,
      "outputs": [
        {
          "output_type": "execute_result",
          "data": {
            "text/html": [
              "<div>\n",
              "<style scoped>\n",
              "    .dataframe tbody tr th:only-of-type {\n",
              "        vertical-align: middle;\n",
              "    }\n",
              "\n",
              "    .dataframe tbody tr th {\n",
              "        vertical-align: top;\n",
              "    }\n",
              "\n",
              "    .dataframe thead th {\n",
              "        text-align: right;\n",
              "    }\n",
              "</style>\n",
              "<table border=\"1\" class=\"dataframe\">\n",
              "  <thead>\n",
              "    <tr style=\"text-align: right;\">\n",
              "      <th></th>\n",
              "      <th>male</th>\n",
              "      <th>age</th>\n",
              "      <th>education</th>\n",
              "      <th>currentSmoker</th>\n",
              "      <th>cigsPerDay</th>\n",
              "      <th>BPMeds</th>\n",
              "      <th>prevalentStroke</th>\n",
              "      <th>prevalentHyp</th>\n",
              "      <th>diabetes</th>\n",
              "      <th>totChol</th>\n",
              "      <th>sysBP</th>\n",
              "      <th>diaBP</th>\n",
              "      <th>BMI</th>\n",
              "      <th>heartRate</th>\n",
              "      <th>glucose</th>\n",
              "      <th>TenYearCHD</th>\n",
              "    </tr>\n",
              "  </thead>\n",
              "  <tbody>\n",
              "    <tr>\n",
              "      <th>0</th>\n",
              "      <td>1</td>\n",
              "      <td>39</td>\n",
              "      <td>4.0</td>\n",
              "      <td>0</td>\n",
              "      <td>0.0</td>\n",
              "      <td>0.0</td>\n",
              "      <td>0</td>\n",
              "      <td>0</td>\n",
              "      <td>0</td>\n",
              "      <td>195.0</td>\n",
              "      <td>106.0</td>\n",
              "      <td>70.0</td>\n",
              "      <td>26.97</td>\n",
              "      <td>80.0</td>\n",
              "      <td>77.0</td>\n",
              "      <td>0</td>\n",
              "    </tr>\n",
              "    <tr>\n",
              "      <th>1</th>\n",
              "      <td>0</td>\n",
              "      <td>46</td>\n",
              "      <td>2.0</td>\n",
              "      <td>0</td>\n",
              "      <td>0.0</td>\n",
              "      <td>0.0</td>\n",
              "      <td>0</td>\n",
              "      <td>0</td>\n",
              "      <td>0</td>\n",
              "      <td>250.0</td>\n",
              "      <td>121.0</td>\n",
              "      <td>81.0</td>\n",
              "      <td>28.73</td>\n",
              "      <td>95.0</td>\n",
              "      <td>76.0</td>\n",
              "      <td>0</td>\n",
              "    </tr>\n",
              "    <tr>\n",
              "      <th>2</th>\n",
              "      <td>1</td>\n",
              "      <td>48</td>\n",
              "      <td>1.0</td>\n",
              "      <td>1</td>\n",
              "      <td>20.0</td>\n",
              "      <td>0.0</td>\n",
              "      <td>0</td>\n",
              "      <td>0</td>\n",
              "      <td>0</td>\n",
              "      <td>245.0</td>\n",
              "      <td>127.5</td>\n",
              "      <td>80.0</td>\n",
              "      <td>25.34</td>\n",
              "      <td>75.0</td>\n",
              "      <td>70.0</td>\n",
              "      <td>0</td>\n",
              "    </tr>\n",
              "  </tbody>\n",
              "</table>\n",
              "</div>"
            ],
            "text/plain": [
              "   male  age  education  currentSmoker  ...    BMI  heartRate  glucose  TenYearCHD\n",
              "0     1   39        4.0              0  ...  26.97       80.0     77.0           0\n",
              "1     0   46        2.0              0  ...  28.73       95.0     76.0           0\n",
              "2     1   48        1.0              1  ...  25.34       75.0     70.0           0\n",
              "\n",
              "[3 rows x 16 columns]"
            ]
          },
          "metadata": {},
          "execution_count": 1
        }
      ]
    },
    {
      "cell_type": "markdown",
      "metadata": {
        "id": "Npjb3dMxxwW7"
      },
      "source": [
        "### Data Description"
      ]
    },
    {
      "cell_type": "markdown",
      "metadata": {
        "id": "B4BQ8Lw3xDSs"
      },
      "source": [
        "* Demographic risk factors\n",
        "  * male: sex of patient\n",
        "  * age: age in years at first examination\n",
        "  * education: Some high school (1), high school/GED (2), some college/vocational school (3), college (4)\n",
        "* Behavioral risk factors\n",
        "  * currentSmoker, cigsPerDay: Smoking behavior\n",
        "  * Medical history risk factors\n",
        "  * BPmeds: On blood pressure medication at time of first examination\n",
        "  * prevalentStroke: Previously had a stroke\n",
        "  * prevalentHyp: Currently hypertensive\n",
        "  * diabetes: Currently has diabetes\n",
        "* Risk factors from first examination\n",
        "  * totChol: Total cholesterol (mg/dL)\n",
        "  * sysBP: Systolic blood pressure\n",
        "  * diaBP: Diastolic blood pressure\n",
        "  * BMI: Body Mass Index, weight (kg)/height (m)2\n",
        "  * heartRate: Heart rate (beats/minute)\n",
        "  * glucose: Blood glucose level (mg/dL)\n",
        "\n"
      ]
    },
    {
      "cell_type": "markdown",
      "metadata": {
        "id": "pkQ8U1eepSQ2"
      },
      "source": [
        "### Preprocessing - no predictive power/handling missing values"
      ]
    },
    {
      "cell_type": "code",
      "metadata": {
        "colab": {
          "base_uri": "https://localhost:8080/"
        },
        "id": "ofkj8nfXpmEt",
        "outputId": "10cd64cf-c201-4b5b-891b-5f879185299e"
      },
      "source": [
        "# Overall the dataset\n",
        "df.info()"
      ],
      "execution_count": null,
      "outputs": [
        {
          "output_type": "stream",
          "name": "stdout",
          "text": [
            "<class 'pandas.core.frame.DataFrame'>\n",
            "RangeIndex: 4240 entries, 0 to 4239\n",
            "Data columns (total 16 columns):\n",
            " #   Column           Non-Null Count  Dtype  \n",
            "---  ------           --------------  -----  \n",
            " 0   male             4240 non-null   int64  \n",
            " 1   age              4240 non-null   int64  \n",
            " 2   education        4135 non-null   float64\n",
            " 3   currentSmoker    4240 non-null   int64  \n",
            " 4   cigsPerDay       4211 non-null   float64\n",
            " 5   BPMeds           4187 non-null   float64\n",
            " 6   prevalentStroke  4240 non-null   int64  \n",
            " 7   prevalentHyp     4240 non-null   int64  \n",
            " 8   diabetes         4240 non-null   int64  \n",
            " 9   totChol          4190 non-null   float64\n",
            " 10  sysBP            4240 non-null   float64\n",
            " 11  diaBP            4240 non-null   float64\n",
            " 12  BMI              4221 non-null   float64\n",
            " 13  heartRate        4239 non-null   float64\n",
            " 14  glucose          3852 non-null   float64\n",
            " 15  TenYearCHD       4240 non-null   int64  \n",
            "dtypes: float64(9), int64(7)\n",
            "memory usage: 530.1 KB\n"
          ]
        }
      ]
    },
    {
      "cell_type": "code",
      "metadata": {
        "colab": {
          "base_uri": "https://localhost:8080/"
        },
        "id": "CUXnC5ampvwy",
        "outputId": "9d131a42-537a-45d2-e2cf-64811d7d3ad5"
      },
      "source": [
        "# Check missing values\n",
        "df.isnull().sum()"
      ],
      "execution_count": null,
      "outputs": [
        {
          "output_type": "execute_result",
          "data": {
            "text/plain": [
              "male                 0\n",
              "age                  0\n",
              "education          105\n",
              "currentSmoker        0\n",
              "cigsPerDay          29\n",
              "BPMeds              53\n",
              "prevalentStroke      0\n",
              "prevalentHyp         0\n",
              "diabetes             0\n",
              "totChol             50\n",
              "sysBP                0\n",
              "diaBP                0\n",
              "BMI                 19\n",
              "heartRate            1\n",
              "glucose            388\n",
              "TenYearCHD           0\n",
              "dtype: int64"
            ]
          },
          "metadata": {},
          "execution_count": 3
        }
      ]
    },
    {
      "cell_type": "markdown",
      "metadata": {
        "id": "R47oeBgYrKde"
      },
      "source": [
        "First, we will drop the `education` variable. Because all people at any level of education are equal in the face of disease, `education` should not be used as a variable affecting disease. Meanwhile, for the medical industry, subjective variables such as education level should not appear in the results of machine learning, which may affect doctors' judgment of patients."
      ]
    },
    {
      "cell_type": "code",
      "metadata": {
        "id": "3kH0YxBYpE8V"
      },
      "source": [
        "# Drop education column\n",
        "df.drop(['education'], axis=1, inplace=True)    # drop deck, embark_town, alive, class & sex"
      ],
      "execution_count": null,
      "outputs": []
    },
    {
      "cell_type": "markdown",
      "metadata": {
        "id": "QVbfj3QQ1S5l"
      },
      "source": [
        "Among the remaining variables, `cigsPerDay`, `BPMeds`, `totChol`, `BMI` and `glucose` still have null values. These null values account for about 12% of the total data, given the medical importance and small proportion of these variables. Dropping these entries does not lose too much data."
      ]
    },
    {
      "cell_type": "code",
      "metadata": {
        "colab": {
          "base_uri": "https://localhost:8080/",
          "height": 235
        },
        "id": "LuPu09XD0k6w",
        "outputId": "1483ae16-d2af-4044-cbfa-884b91c15e01"
      },
      "source": [
        "# Calculate missing entries percentage\n",
        "missing_values = df.isnull().sum().sort_values(ascending=False)\n",
        "missing_percentage = (df.isnull().sum()/df.isnull().count()).sort_values(ascending=False)*100\n",
        "missing_results = pd.concat([missing_values, missing_percentage], axis=1, keys=[\"Total\", \"Percentage\"])\n",
        "missing_data = missing_results[missing_results['Total']>0]\n",
        "missing_data"
      ],
      "execution_count": null,
      "outputs": [
        {
          "output_type": "execute_result",
          "data": {
            "text/html": [
              "<div>\n",
              "<style scoped>\n",
              "    .dataframe tbody tr th:only-of-type {\n",
              "        vertical-align: middle;\n",
              "    }\n",
              "\n",
              "    .dataframe tbody tr th {\n",
              "        vertical-align: top;\n",
              "    }\n",
              "\n",
              "    .dataframe thead th {\n",
              "        text-align: right;\n",
              "    }\n",
              "</style>\n",
              "<table border=\"1\" class=\"dataframe\">\n",
              "  <thead>\n",
              "    <tr style=\"text-align: right;\">\n",
              "      <th></th>\n",
              "      <th>Total</th>\n",
              "      <th>Percentage</th>\n",
              "    </tr>\n",
              "  </thead>\n",
              "  <tbody>\n",
              "    <tr>\n",
              "      <th>glucose</th>\n",
              "      <td>388</td>\n",
              "      <td>9.150943</td>\n",
              "    </tr>\n",
              "    <tr>\n",
              "      <th>BPMeds</th>\n",
              "      <td>53</td>\n",
              "      <td>1.250000</td>\n",
              "    </tr>\n",
              "    <tr>\n",
              "      <th>totChol</th>\n",
              "      <td>50</td>\n",
              "      <td>1.179245</td>\n",
              "    </tr>\n",
              "    <tr>\n",
              "      <th>cigsPerDay</th>\n",
              "      <td>29</td>\n",
              "      <td>0.683962</td>\n",
              "    </tr>\n",
              "    <tr>\n",
              "      <th>BMI</th>\n",
              "      <td>19</td>\n",
              "      <td>0.448113</td>\n",
              "    </tr>\n",
              "    <tr>\n",
              "      <th>heartRate</th>\n",
              "      <td>1</td>\n",
              "      <td>0.023585</td>\n",
              "    </tr>\n",
              "  </tbody>\n",
              "</table>\n",
              "</div>"
            ],
            "text/plain": [
              "            Total  Percentage\n",
              "glucose       388    9.150943\n",
              "BPMeds         53    1.250000\n",
              "totChol        50    1.179245\n",
              "cigsPerDay     29    0.683962\n",
              "BMI            19    0.448113\n",
              "heartRate       1    0.023585"
            ]
          },
          "metadata": {},
          "execution_count": 5
        }
      ]
    },
    {
      "cell_type": "code",
      "metadata": {
        "colab": {
          "base_uri": "https://localhost:8080/"
        },
        "id": "SbWVSsFI2vTp",
        "outputId": "af5a90ca-c876-4577-9f89-300ae4261481"
      },
      "source": [
        "# Drop missing entries\n",
        "df.dropna(axis=0, inplace=True)\n",
        "df.isnull().sum()"
      ],
      "execution_count": null,
      "outputs": [
        {
          "output_type": "execute_result",
          "data": {
            "text/plain": [
              "male               0\n",
              "age                0\n",
              "currentSmoker      0\n",
              "cigsPerDay         0\n",
              "BPMeds             0\n",
              "prevalentStroke    0\n",
              "prevalentHyp       0\n",
              "diabetes           0\n",
              "totChol            0\n",
              "sysBP              0\n",
              "diaBP              0\n",
              "BMI                0\n",
              "heartRate          0\n",
              "glucose            0\n",
              "TenYearCHD         0\n",
              "dtype: int64"
            ]
          },
          "metadata": {},
          "execution_count": 6
        }
      ]
    },
    {
      "cell_type": "markdown",
      "metadata": {
        "id": "wgglf1yK3fB_"
      },
      "source": [
        "Let's check the remaining amount of data, we still have 3751 rows of data for further analysis."
      ]
    },
    {
      "cell_type": "code",
      "metadata": {
        "colab": {
          "base_uri": "https://localhost:8080/"
        },
        "id": "GYsCsop53E4b",
        "outputId": "b1d44eb6-eb12-4388-cd40-ee1e6af1d52f"
      },
      "source": [
        "# Check remain entires\n",
        "df.shape"
      ],
      "execution_count": null,
      "outputs": [
        {
          "output_type": "execute_result",
          "data": {
            "text/plain": [
              "(3751, 15)"
            ]
          },
          "metadata": {},
          "execution_count": 7
        }
      ]
    },
    {
      "cell_type": "markdown",
      "metadata": {
        "id": "qWdWG76C3sW0"
      },
      "source": [
        "### Preprocessing - categorical variables\n",
        "Before machine learning, we need to make sure that all the variables are numerical variables, so it looks like our data is clean and we don't need to do any more processing."
      ]
    },
    {
      "cell_type": "code",
      "metadata": {
        "colab": {
          "base_uri": "https://localhost:8080/",
          "height": 162
        },
        "id": "5yg78OSx3r12",
        "outputId": "6faec432-e88c-4b01-8afb-d1522236ccb8"
      },
      "source": [
        "# Show dataset sample\n",
        "df.head(3)"
      ],
      "execution_count": null,
      "outputs": [
        {
          "output_type": "execute_result",
          "data": {
            "text/html": [
              "<div>\n",
              "<style scoped>\n",
              "    .dataframe tbody tr th:only-of-type {\n",
              "        vertical-align: middle;\n",
              "    }\n",
              "\n",
              "    .dataframe tbody tr th {\n",
              "        vertical-align: top;\n",
              "    }\n",
              "\n",
              "    .dataframe thead th {\n",
              "        text-align: right;\n",
              "    }\n",
              "</style>\n",
              "<table border=\"1\" class=\"dataframe\">\n",
              "  <thead>\n",
              "    <tr style=\"text-align: right;\">\n",
              "      <th></th>\n",
              "      <th>male</th>\n",
              "      <th>age</th>\n",
              "      <th>currentSmoker</th>\n",
              "      <th>cigsPerDay</th>\n",
              "      <th>BPMeds</th>\n",
              "      <th>prevalentStroke</th>\n",
              "      <th>prevalentHyp</th>\n",
              "      <th>diabetes</th>\n",
              "      <th>totChol</th>\n",
              "      <th>sysBP</th>\n",
              "      <th>diaBP</th>\n",
              "      <th>BMI</th>\n",
              "      <th>heartRate</th>\n",
              "      <th>glucose</th>\n",
              "      <th>TenYearCHD</th>\n",
              "    </tr>\n",
              "  </thead>\n",
              "  <tbody>\n",
              "    <tr>\n",
              "      <th>0</th>\n",
              "      <td>1</td>\n",
              "      <td>39</td>\n",
              "      <td>0</td>\n",
              "      <td>0.0</td>\n",
              "      <td>0.0</td>\n",
              "      <td>0</td>\n",
              "      <td>0</td>\n",
              "      <td>0</td>\n",
              "      <td>195.0</td>\n",
              "      <td>106.0</td>\n",
              "      <td>70.0</td>\n",
              "      <td>26.97</td>\n",
              "      <td>80.0</td>\n",
              "      <td>77.0</td>\n",
              "      <td>0</td>\n",
              "    </tr>\n",
              "    <tr>\n",
              "      <th>1</th>\n",
              "      <td>0</td>\n",
              "      <td>46</td>\n",
              "      <td>0</td>\n",
              "      <td>0.0</td>\n",
              "      <td>0.0</td>\n",
              "      <td>0</td>\n",
              "      <td>0</td>\n",
              "      <td>0</td>\n",
              "      <td>250.0</td>\n",
              "      <td>121.0</td>\n",
              "      <td>81.0</td>\n",
              "      <td>28.73</td>\n",
              "      <td>95.0</td>\n",
              "      <td>76.0</td>\n",
              "      <td>0</td>\n",
              "    </tr>\n",
              "    <tr>\n",
              "      <th>2</th>\n",
              "      <td>1</td>\n",
              "      <td>48</td>\n",
              "      <td>1</td>\n",
              "      <td>20.0</td>\n",
              "      <td>0.0</td>\n",
              "      <td>0</td>\n",
              "      <td>0</td>\n",
              "      <td>0</td>\n",
              "      <td>245.0</td>\n",
              "      <td>127.5</td>\n",
              "      <td>80.0</td>\n",
              "      <td>25.34</td>\n",
              "      <td>75.0</td>\n",
              "      <td>70.0</td>\n",
              "      <td>0</td>\n",
              "    </tr>\n",
              "  </tbody>\n",
              "</table>\n",
              "</div>"
            ],
            "text/plain": [
              "   male  age  currentSmoker  cigsPerDay  ...    BMI  heartRate  glucose  TenYearCHD\n",
              "0     1   39              0         0.0  ...  26.97       80.0     77.0           0\n",
              "1     0   46              0         0.0  ...  28.73       95.0     76.0           0\n",
              "2     1   48              1        20.0  ...  25.34       75.0     70.0           0\n",
              "\n",
              "[3 rows x 15 columns]"
            ]
          },
          "metadata": {},
          "execution_count": 8
        }
      ]
    },
    {
      "cell_type": "markdown",
      "metadata": {
        "id": "8M-9jNnG5_J9"
      },
      "source": [
        "### Create feature matrix and target vector"
      ]
    },
    {
      "cell_type": "code",
      "metadata": {
        "colab": {
          "base_uri": "https://localhost:8080/"
        },
        "id": "uvqC814o6Rik",
        "outputId": "cef5d4ff-6ed5-4a8d-f31e-f7858d34b6bf"
      },
      "source": [
        "# Create a feature matrix without `TenYearCHD` and call it `X`:\n",
        "X = df.drop('TenYearCHD', axis=1)\n",
        "X.shape"
      ],
      "execution_count": null,
      "outputs": [
        {
          "output_type": "execute_result",
          "data": {
            "text/plain": [
              "(3751, 14)"
            ]
          },
          "metadata": {},
          "execution_count": 9
        }
      ]
    },
    {
      "cell_type": "code",
      "metadata": {
        "colab": {
          "base_uri": "https://localhost:8080/"
        },
        "id": "_QjKak2C7Jo9",
        "outputId": "7f74e44e-61d7-497e-880f-2beb0bfff334"
      },
      "source": [
        "# Create a target vector with \"survived\" and call it `y`:\n",
        "y = df['TenYearCHD']\n",
        "y.shape"
      ],
      "execution_count": null,
      "outputs": [
        {
          "output_type": "execute_result",
          "data": {
            "text/plain": [
              "(3751,)"
            ]
          },
          "metadata": {},
          "execution_count": 10
        }
      ]
    },
    {
      "cell_type": "markdown",
      "metadata": {
        "id": "IBTOuuHp7v0m"
      },
      "source": [
        "### Split the data randomly into train and test\n",
        "\n",
        "Next, the data will be split as test and train dataset. Test data accounted for 30% of the metadata set, and training data accounted for 70% of the metadata set."
      ]
    },
    {
      "cell_type": "code",
      "metadata": {
        "id": "0jCfObiB8YlC"
      },
      "source": [
        "# Split dataset randomly by using sklearn package\n",
        "from sklearn.model_selection import train_test_split\n",
        "Xtrain, Xtest, ytrain, ytest = train_test_split(X, y, test_size=0.3, random_state=780)"
      ],
      "execution_count": null,
      "outputs": []
    },
    {
      "cell_type": "code",
      "metadata": {
        "colab": {
          "base_uri": "https://localhost:8080/"
        },
        "id": "s19P5GxL8vNu",
        "outputId": "4e8317c3-bdb6-451a-a22d-76c8607124a0"
      },
      "source": [
        "Xtrain.shape"
      ],
      "execution_count": null,
      "outputs": [
        {
          "output_type": "execute_result",
          "data": {
            "text/plain": [
              "(2625, 14)"
            ]
          },
          "metadata": {},
          "execution_count": 12
        }
      ]
    },
    {
      "cell_type": "code",
      "metadata": {
        "colab": {
          "base_uri": "https://localhost:8080/"
        },
        "id": "Vd4FVckk83L2",
        "outputId": "2c7cdaf0-1ef7-4e98-fb31-0ce37abeb201"
      },
      "source": [
        "ytrain.shape"
      ],
      "execution_count": null,
      "outputs": [
        {
          "output_type": "execute_result",
          "data": {
            "text/plain": [
              "(2625,)"
            ]
          },
          "metadata": {},
          "execution_count": 13
        }
      ]
    },
    {
      "cell_type": "code",
      "metadata": {
        "colab": {
          "base_uri": "https://localhost:8080/"
        },
        "id": "m7RGiA4f81mB",
        "outputId": "86275669-611e-4886-88eb-bda526854eea"
      },
      "source": [
        "Xtest.shape"
      ],
      "execution_count": null,
      "outputs": [
        {
          "output_type": "execute_result",
          "data": {
            "text/plain": [
              "(1126, 14)"
            ]
          },
          "metadata": {},
          "execution_count": 14
        }
      ]
    },
    {
      "cell_type": "code",
      "metadata": {
        "colab": {
          "base_uri": "https://localhost:8080/"
        },
        "id": "yuxZf_kl85K2",
        "outputId": "b0642543-3f45-4641-c3e2-b4cc544d6545"
      },
      "source": [
        "ytest.shape"
      ],
      "execution_count": null,
      "outputs": [
        {
          "output_type": "execute_result",
          "data": {
            "text/plain": [
              "(1126,)"
            ]
          },
          "metadata": {},
          "execution_count": 15
        }
      ]
    },
    {
      "cell_type": "markdown",
      "metadata": {
        "id": "fMmNEYOK9b0L"
      },
      "source": [
        "### Instantiate and fit a logistic regression model"
      ]
    },
    {
      "cell_type": "code",
      "metadata": {
        "id": "oOCqqkiQ9iiS"
      },
      "source": [
        "# Set \"liblinear\" as solver for logistic regression\n",
        "from sklearn.linear_model import LogisticRegression\n",
        "model = LogisticRegression(solver='liblinear')"
      ],
      "execution_count": null,
      "outputs": []
    },
    {
      "cell_type": "code",
      "metadata": {
        "colab": {
          "base_uri": "https://localhost:8080/"
        },
        "id": "HPsOHfwI_uy_",
        "outputId": "2741cc76-61fa-4b25-d731-4dfa8dbaef99"
      },
      "source": [
        "# Fit model to the training data\n",
        "model.fit(Xtrain, ytrain)"
      ],
      "execution_count": null,
      "outputs": [
        {
          "output_type": "execute_result",
          "data": {
            "text/plain": [
              "LogisticRegression(C=1.0, class_weight=None, dual=False, fit_intercept=True,\n",
              "                   intercept_scaling=1, l1_ratio=None, max_iter=100,\n",
              "                   multi_class='auto', n_jobs=None, penalty='l2',\n",
              "                   random_state=None, solver='liblinear', tol=0.0001, verbose=0,\n",
              "                   warm_start=False)"
            ]
          },
          "metadata": {},
          "execution_count": 17
        }
      ]
    },
    {
      "cell_type": "markdown",
      "metadata": {
        "id": "sMEXaTfUAZ2y"
      },
      "source": [
        "### Prediction"
      ]
    },
    {
      "cell_type": "code",
      "metadata": {
        "id": "lyVef54MABF1"
      },
      "source": [
        "# predict on test data and store the results as y_model\n",
        "y_model = model.predict(Xtest)"
      ],
      "execution_count": null,
      "outputs": []
    },
    {
      "cell_type": "code",
      "metadata": {
        "colab": {
          "base_uri": "https://localhost:8080/",
          "height": 224
        },
        "id": "FjUCZffxAdrm",
        "outputId": "7cd38ff1-18fe-434f-df78-daa631dd9d0c"
      },
      "source": [
        "# Add predit results to test dataset\n",
        "test = Xtest.join(ytest).reset_index()\n",
        "test.join(pd.Series(y_model, name='predicted')).head()"
      ],
      "execution_count": null,
      "outputs": [
        {
          "output_type": "execute_result",
          "data": {
            "text/html": [
              "<div>\n",
              "<style scoped>\n",
              "    .dataframe tbody tr th:only-of-type {\n",
              "        vertical-align: middle;\n",
              "    }\n",
              "\n",
              "    .dataframe tbody tr th {\n",
              "        vertical-align: top;\n",
              "    }\n",
              "\n",
              "    .dataframe thead th {\n",
              "        text-align: right;\n",
              "    }\n",
              "</style>\n",
              "<table border=\"1\" class=\"dataframe\">\n",
              "  <thead>\n",
              "    <tr style=\"text-align: right;\">\n",
              "      <th></th>\n",
              "      <th>index</th>\n",
              "      <th>male</th>\n",
              "      <th>age</th>\n",
              "      <th>currentSmoker</th>\n",
              "      <th>cigsPerDay</th>\n",
              "      <th>BPMeds</th>\n",
              "      <th>prevalentStroke</th>\n",
              "      <th>prevalentHyp</th>\n",
              "      <th>diabetes</th>\n",
              "      <th>totChol</th>\n",
              "      <th>sysBP</th>\n",
              "      <th>diaBP</th>\n",
              "      <th>BMI</th>\n",
              "      <th>heartRate</th>\n",
              "      <th>glucose</th>\n",
              "      <th>TenYearCHD</th>\n",
              "      <th>predicted</th>\n",
              "    </tr>\n",
              "  </thead>\n",
              "  <tbody>\n",
              "    <tr>\n",
              "      <th>0</th>\n",
              "      <td>1290</td>\n",
              "      <td>0</td>\n",
              "      <td>40</td>\n",
              "      <td>1</td>\n",
              "      <td>15.0</td>\n",
              "      <td>0.0</td>\n",
              "      <td>0</td>\n",
              "      <td>0</td>\n",
              "      <td>0</td>\n",
              "      <td>244.0</td>\n",
              "      <td>110.0</td>\n",
              "      <td>73.0</td>\n",
              "      <td>21.84</td>\n",
              "      <td>88.0</td>\n",
              "      <td>67.0</td>\n",
              "      <td>0</td>\n",
              "      <td>0</td>\n",
              "    </tr>\n",
              "    <tr>\n",
              "      <th>1</th>\n",
              "      <td>2025</td>\n",
              "      <td>0</td>\n",
              "      <td>57</td>\n",
              "      <td>0</td>\n",
              "      <td>0.0</td>\n",
              "      <td>0.0</td>\n",
              "      <td>0</td>\n",
              "      <td>1</td>\n",
              "      <td>0</td>\n",
              "      <td>207.0</td>\n",
              "      <td>175.0</td>\n",
              "      <td>80.0</td>\n",
              "      <td>20.86</td>\n",
              "      <td>83.0</td>\n",
              "      <td>75.0</td>\n",
              "      <td>1</td>\n",
              "      <td>0</td>\n",
              "    </tr>\n",
              "    <tr>\n",
              "      <th>2</th>\n",
              "      <td>1477</td>\n",
              "      <td>0</td>\n",
              "      <td>49</td>\n",
              "      <td>0</td>\n",
              "      <td>0.0</td>\n",
              "      <td>0.0</td>\n",
              "      <td>0</td>\n",
              "      <td>0</td>\n",
              "      <td>0</td>\n",
              "      <td>290.0</td>\n",
              "      <td>137.5</td>\n",
              "      <td>92.0</td>\n",
              "      <td>24.46</td>\n",
              "      <td>80.0</td>\n",
              "      <td>74.0</td>\n",
              "      <td>0</td>\n",
              "      <td>0</td>\n",
              "    </tr>\n",
              "    <tr>\n",
              "      <th>3</th>\n",
              "      <td>603</td>\n",
              "      <td>0</td>\n",
              "      <td>61</td>\n",
              "      <td>1</td>\n",
              "      <td>20.0</td>\n",
              "      <td>0.0</td>\n",
              "      <td>0</td>\n",
              "      <td>1</td>\n",
              "      <td>0</td>\n",
              "      <td>245.0</td>\n",
              "      <td>140.0</td>\n",
              "      <td>73.0</td>\n",
              "      <td>30.74</td>\n",
              "      <td>90.0</td>\n",
              "      <td>91.0</td>\n",
              "      <td>1</td>\n",
              "      <td>0</td>\n",
              "    </tr>\n",
              "    <tr>\n",
              "      <th>4</th>\n",
              "      <td>2380</td>\n",
              "      <td>1</td>\n",
              "      <td>59</td>\n",
              "      <td>1</td>\n",
              "      <td>30.0</td>\n",
              "      <td>0.0</td>\n",
              "      <td>0</td>\n",
              "      <td>0</td>\n",
              "      <td>0</td>\n",
              "      <td>235.0</td>\n",
              "      <td>136.0</td>\n",
              "      <td>96.0</td>\n",
              "      <td>28.61</td>\n",
              "      <td>54.0</td>\n",
              "      <td>85.0</td>\n",
              "      <td>0</td>\n",
              "      <td>0</td>\n",
              "    </tr>\n",
              "  </tbody>\n",
              "</table>\n",
              "</div>"
            ],
            "text/plain": [
              "   index  male  age  currentSmoker  ...  heartRate  glucose  TenYearCHD  predicted\n",
              "0   1290     0   40              1  ...       88.0     67.0           0          0\n",
              "1   2025     0   57              0  ...       83.0     75.0           1          0\n",
              "2   1477     0   49              0  ...       80.0     74.0           0          0\n",
              "3    603     0   61              1  ...       90.0     91.0           1          0\n",
              "4   2380     1   59              1  ...       54.0     85.0           0          0\n",
              "\n",
              "[5 rows x 17 columns]"
            ]
          },
          "metadata": {},
          "execution_count": 19
        }
      ]
    },
    {
      "cell_type": "markdown",
      "metadata": {
        "id": "1uZTTX9uBPR_"
      },
      "source": [
        "#### Accuracy\n",
        "\n",
        "Our basic model is giving us an accuracy of 84.6%, which is a very good prediction result."
      ]
    },
    {
      "cell_type": "code",
      "metadata": {
        "colab": {
          "base_uri": "https://localhost:8080/"
        },
        "id": "e2Hp0wY9BOGv",
        "outputId": "c740fc39-7fed-43fd-9ad6-cdde1f4419c3"
      },
      "source": [
        "from sklearn.metrics import accuracy_score\n",
        "accuracy_score(ytest, y_model)"
      ],
      "execution_count": null,
      "outputs": [
        {
          "output_type": "execute_result",
          "data": {
            "text/plain": [
              "0.8463587921847247"
            ]
          },
          "metadata": {},
          "execution_count": 20
        }
      ]
    },
    {
      "cell_type": "markdown",
      "metadata": {
        "id": "dVojGiLIEv68"
      },
      "source": [
        "#### Sensitivity\n",
        "Sensitivity = $TPR=\\frac{TP}{P}$, where $TP$ is ture positives and $P$ is count of all positives."
      ]
    },
    {
      "cell_type": "code",
      "metadata": {
        "colab": {
          "base_uri": "https://localhost:8080/"
        },
        "id": "5pIm7dCDH1jv",
        "outputId": "c4891a4d-c518-4c84-f951-3722bb09c453"
      },
      "source": [
        "P = sum(ytest == 1)\n",
        "TP = sum((ytest == 1) & (y_model == 1))\n",
        "TP/P"
      ],
      "execution_count": null,
      "outputs": [
        {
          "output_type": "execute_result",
          "data": {
            "text/plain": [
              "0.022988505747126436"
            ]
          },
          "metadata": {},
          "execution_count": 21
        }
      ]
    },
    {
      "cell_type": "markdown",
      "metadata": {
        "id": "bHDd8Ek_LIaT"
      },
      "source": [
        "#### Specificity\n",
        "Specificity = $TNR=\\frac{TN}{N}$, where $TN$ is ture negatives and $N$ is count of all negatives."
      ]
    },
    {
      "cell_type": "code",
      "metadata": {
        "colab": {
          "base_uri": "https://localhost:8080/"
        },
        "id": "zi3_dJJnK4Gi",
        "outputId": "f11da966-d854-41a7-bcd0-b49d69c48794"
      },
      "source": [
        "N = sum(ytest == 0)\n",
        "TN = sum((ytest == 0) & (y_model == 0))\n",
        "TN/N"
      ],
      "execution_count": null,
      "outputs": [
        {
          "output_type": "execute_result",
          "data": {
            "text/plain": [
              "0.9968487394957983"
            ]
          },
          "metadata": {},
          "execution_count": 22
        }
      ]
    },
    {
      "cell_type": "code",
      "metadata": {
        "colab": {
          "base_uri": "https://localhost:8080/"
        },
        "id": "3RFAIJobZMSQ",
        "outputId": "3e870adf-71ba-4dc9-fd6b-148e45b8b63f"
      },
      "source": [
        "# Calculating the mean absolute error\n",
        "from sklearn.metrics import mean_absolute_error\n",
        "mean_absolute_error(ytest, y_model)"
      ],
      "execution_count": null,
      "outputs": [
        {
          "output_type": "execute_result",
          "data": {
            "text/plain": [
              "0.15364120781527532"
            ]
          },
          "metadata": {},
          "execution_count": 23
        }
      ]
    },
    {
      "cell_type": "markdown",
      "metadata": {
        "id": "vB0s5XvUHyuO"
      },
      "source": [
        "## Performance Improvement"
      ]
    },
    {
      "cell_type": "markdown",
      "metadata": {
        "id": "nIpVXTLjOaFD"
      },
      "source": [
        "### Feature Engineering\n",
        "\n",
        "First, have a look at the correlation matrix between Predictor variable and target variable."
      ]
    },
    {
      "cell_type": "code",
      "metadata": {
        "colab": {
          "base_uri": "https://localhost:8080/",
          "height": 534
        },
        "id": "O1dNvt6abCAw",
        "outputId": "d4ee89b5-5ee1-46cc-c0c8-c3a479aaa1fd"
      },
      "source": [
        "df.corr()"
      ],
      "execution_count": null,
      "outputs": [
        {
          "output_type": "execute_result",
          "data": {
            "text/html": [
              "<div>\n",
              "<style scoped>\n",
              "    .dataframe tbody tr th:only-of-type {\n",
              "        vertical-align: middle;\n",
              "    }\n",
              "\n",
              "    .dataframe tbody tr th {\n",
              "        vertical-align: top;\n",
              "    }\n",
              "\n",
              "    .dataframe thead th {\n",
              "        text-align: right;\n",
              "    }\n",
              "</style>\n",
              "<table border=\"1\" class=\"dataframe\">\n",
              "  <thead>\n",
              "    <tr style=\"text-align: right;\">\n",
              "      <th></th>\n",
              "      <th>male</th>\n",
              "      <th>age</th>\n",
              "      <th>currentSmoker</th>\n",
              "      <th>cigsPerDay</th>\n",
              "      <th>BPMeds</th>\n",
              "      <th>prevalentStroke</th>\n",
              "      <th>prevalentHyp</th>\n",
              "      <th>diabetes</th>\n",
              "      <th>totChol</th>\n",
              "      <th>sysBP</th>\n",
              "      <th>diaBP</th>\n",
              "      <th>BMI</th>\n",
              "      <th>heartRate</th>\n",
              "      <th>glucose</th>\n",
              "      <th>TenYearCHD</th>\n",
              "    </tr>\n",
              "  </thead>\n",
              "  <tbody>\n",
              "    <tr>\n",
              "      <th>male</th>\n",
              "      <td>1.000000</td>\n",
              "      <td>-0.024142</td>\n",
              "      <td>0.203215</td>\n",
              "      <td>0.325886</td>\n",
              "      <td>-0.052355</td>\n",
              "      <td>-0.002513</td>\n",
              "      <td>0.003588</td>\n",
              "      <td>0.011834</td>\n",
              "      <td>-0.067595</td>\n",
              "      <td>-0.044515</td>\n",
              "      <td>0.053890</td>\n",
              "      <td>0.074868</td>\n",
              "      <td>-0.115444</td>\n",
              "      <td>0.003130</td>\n",
              "      <td>0.096000</td>\n",
              "    </tr>\n",
              "    <tr>\n",
              "      <th>age</th>\n",
              "      <td>-0.024142</td>\n",
              "      <td>1.000000</td>\n",
              "      <td>-0.211338</td>\n",
              "      <td>-0.188804</td>\n",
              "      <td>0.131690</td>\n",
              "      <td>0.050018</td>\n",
              "      <td>0.305292</td>\n",
              "      <td>0.109321</td>\n",
              "      <td>0.261443</td>\n",
              "      <td>0.388280</td>\n",
              "      <td>0.205191</td>\n",
              "      <td>0.136428</td>\n",
              "      <td>-0.005893</td>\n",
              "      <td>0.118529</td>\n",
              "      <td>0.231584</td>\n",
              "    </tr>\n",
              "    <tr>\n",
              "      <th>currentSmoker</th>\n",
              "      <td>0.203215</td>\n",
              "      <td>-0.211338</td>\n",
              "      <td>1.000000</td>\n",
              "      <td>0.773259</td>\n",
              "      <td>-0.051816</td>\n",
              "      <td>-0.037573</td>\n",
              "      <td>-0.105258</td>\n",
              "      <td>-0.045308</td>\n",
              "      <td>-0.049945</td>\n",
              "      <td>-0.133154</td>\n",
              "      <td>-0.114118</td>\n",
              "      <td>-0.165404</td>\n",
              "      <td>0.054924</td>\n",
              "      <td>-0.054078</td>\n",
              "      <td>0.021709</td>\n",
              "    </tr>\n",
              "    <tr>\n",
              "      <th>cigsPerDay</th>\n",
              "      <td>0.325886</td>\n",
              "      <td>-0.188804</td>\n",
              "      <td>0.773259</td>\n",
              "      <td>1.000000</td>\n",
              "      <td>-0.046625</td>\n",
              "      <td>-0.035713</td>\n",
              "      <td>-0.067470</td>\n",
              "      <td>-0.039436</td>\n",
              "      <td>-0.030600</td>\n",
              "      <td>-0.092310</td>\n",
              "      <td>-0.056202</td>\n",
              "      <td>-0.090525</td>\n",
              "      <td>0.067194</td>\n",
              "      <td>-0.055090</td>\n",
              "      <td>0.055920</td>\n",
              "    </tr>\n",
              "    <tr>\n",
              "      <th>BPMeds</th>\n",
              "      <td>-0.052355</td>\n",
              "      <td>0.131690</td>\n",
              "      <td>-0.051816</td>\n",
              "      <td>-0.046625</td>\n",
              "      <td>1.000000</td>\n",
              "      <td>0.111601</td>\n",
              "      <td>0.262955</td>\n",
              "      <td>0.056337</td>\n",
              "      <td>0.089625</td>\n",
              "      <td>0.269479</td>\n",
              "      <td>0.199282</td>\n",
              "      <td>0.105128</td>\n",
              "      <td>0.010228</td>\n",
              "      <td>0.052464</td>\n",
              "      <td>0.084740</td>\n",
              "    </tr>\n",
              "    <tr>\n",
              "      <th>prevalentStroke</th>\n",
              "      <td>-0.002513</td>\n",
              "      <td>0.050018</td>\n",
              "      <td>-0.037573</td>\n",
              "      <td>-0.035713</td>\n",
              "      <td>0.111601</td>\n",
              "      <td>1.000000</td>\n",
              "      <td>0.065169</td>\n",
              "      <td>0.009423</td>\n",
              "      <td>0.012297</td>\n",
              "      <td>0.060421</td>\n",
              "      <td>0.055189</td>\n",
              "      <td>0.035568</td>\n",
              "      <td>-0.016673</td>\n",
              "      <td>0.015789</td>\n",
              "      <td>0.047684</td>\n",
              "    </tr>\n",
              "    <tr>\n",
              "      <th>prevalentHyp</th>\n",
              "      <td>0.003588</td>\n",
              "      <td>0.305292</td>\n",
              "      <td>-0.105258</td>\n",
              "      <td>-0.067470</td>\n",
              "      <td>0.262955</td>\n",
              "      <td>0.065169</td>\n",
              "      <td>1.000000</td>\n",
              "      <td>0.082030</td>\n",
              "      <td>0.164645</td>\n",
              "      <td>0.697849</td>\n",
              "      <td>0.616753</td>\n",
              "      <td>0.303411</td>\n",
              "      <td>0.142013</td>\n",
              "      <td>0.085776</td>\n",
              "      <td>0.178615</td>\n",
              "    </tr>\n",
              "    <tr>\n",
              "      <th>diabetes</th>\n",
              "      <td>0.011834</td>\n",
              "      <td>0.109321</td>\n",
              "      <td>-0.045308</td>\n",
              "      <td>-0.039436</td>\n",
              "      <td>0.056337</td>\n",
              "      <td>0.009423</td>\n",
              "      <td>0.082030</td>\n",
              "      <td>1.000000</td>\n",
              "      <td>0.047453</td>\n",
              "      <td>0.104393</td>\n",
              "      <td>0.051761</td>\n",
              "      <td>0.093098</td>\n",
              "      <td>0.063370</td>\n",
              "      <td>0.616087</td>\n",
              "      <td>0.093222</td>\n",
              "    </tr>\n",
              "    <tr>\n",
              "      <th>totChol</th>\n",
              "      <td>-0.067595</td>\n",
              "      <td>0.261443</td>\n",
              "      <td>-0.049945</td>\n",
              "      <td>-0.030600</td>\n",
              "      <td>0.089625</td>\n",
              "      <td>0.012297</td>\n",
              "      <td>0.164645</td>\n",
              "      <td>0.047453</td>\n",
              "      <td>1.000000</td>\n",
              "      <td>0.216375</td>\n",
              "      <td>0.169811</td>\n",
              "      <td>0.119651</td>\n",
              "      <td>0.094795</td>\n",
              "      <td>0.046902</td>\n",
              "      <td>0.089613</td>\n",
              "    </tr>\n",
              "    <tr>\n",
              "      <th>sysBP</th>\n",
              "      <td>-0.044515</td>\n",
              "      <td>0.388280</td>\n",
              "      <td>-0.133154</td>\n",
              "      <td>-0.092310</td>\n",
              "      <td>0.269479</td>\n",
              "      <td>0.060421</td>\n",
              "      <td>0.697849</td>\n",
              "      <td>0.104393</td>\n",
              "      <td>0.216375</td>\n",
              "      <td>1.000000</td>\n",
              "      <td>0.785853</td>\n",
              "      <td>0.330484</td>\n",
              "      <td>0.181381</td>\n",
              "      <td>0.132878</td>\n",
              "      <td>0.220108</td>\n",
              "    </tr>\n",
              "    <tr>\n",
              "      <th>diaBP</th>\n",
              "      <td>0.053890</td>\n",
              "      <td>0.205191</td>\n",
              "      <td>-0.114118</td>\n",
              "      <td>-0.056202</td>\n",
              "      <td>0.199282</td>\n",
              "      <td>0.055189</td>\n",
              "      <td>0.616753</td>\n",
              "      <td>0.051761</td>\n",
              "      <td>0.169811</td>\n",
              "      <td>0.785853</td>\n",
              "      <td>1.000000</td>\n",
              "      <td>0.383907</td>\n",
              "      <td>0.174918</td>\n",
              "      <td>0.061731</td>\n",
              "      <td>0.148994</td>\n",
              "    </tr>\n",
              "    <tr>\n",
              "      <th>BMI</th>\n",
              "      <td>0.074868</td>\n",
              "      <td>0.136428</td>\n",
              "      <td>-0.165404</td>\n",
              "      <td>-0.090525</td>\n",
              "      <td>0.105128</td>\n",
              "      <td>0.035568</td>\n",
              "      <td>0.303411</td>\n",
              "      <td>0.093098</td>\n",
              "      <td>0.119651</td>\n",
              "      <td>0.330484</td>\n",
              "      <td>0.383907</td>\n",
              "      <td>1.000000</td>\n",
              "      <td>0.071688</td>\n",
              "      <td>0.088133</td>\n",
              "      <td>0.084400</td>\n",
              "    </tr>\n",
              "    <tr>\n",
              "      <th>heartRate</th>\n",
              "      <td>-0.115444</td>\n",
              "      <td>-0.005893</td>\n",
              "      <td>0.054924</td>\n",
              "      <td>0.067194</td>\n",
              "      <td>0.010228</td>\n",
              "      <td>-0.016673</td>\n",
              "      <td>0.142013</td>\n",
              "      <td>0.063370</td>\n",
              "      <td>0.094795</td>\n",
              "      <td>0.181381</td>\n",
              "      <td>0.174918</td>\n",
              "      <td>0.071688</td>\n",
              "      <td>1.000000</td>\n",
              "      <td>0.099575</td>\n",
              "      <td>0.022658</td>\n",
              "    </tr>\n",
              "    <tr>\n",
              "      <th>glucose</th>\n",
              "      <td>0.003130</td>\n",
              "      <td>0.118529</td>\n",
              "      <td>-0.054078</td>\n",
              "      <td>-0.055090</td>\n",
              "      <td>0.052464</td>\n",
              "      <td>0.015789</td>\n",
              "      <td>0.085776</td>\n",
              "      <td>0.616087</td>\n",
              "      <td>0.046902</td>\n",
              "      <td>0.132878</td>\n",
              "      <td>0.061731</td>\n",
              "      <td>0.088133</td>\n",
              "      <td>0.099575</td>\n",
              "      <td>1.000000</td>\n",
              "      <td>0.124117</td>\n",
              "    </tr>\n",
              "    <tr>\n",
              "      <th>TenYearCHD</th>\n",
              "      <td>0.096000</td>\n",
              "      <td>0.231584</td>\n",
              "      <td>0.021709</td>\n",
              "      <td>0.055920</td>\n",
              "      <td>0.084740</td>\n",
              "      <td>0.047684</td>\n",
              "      <td>0.178615</td>\n",
              "      <td>0.093222</td>\n",
              "      <td>0.089613</td>\n",
              "      <td>0.220108</td>\n",
              "      <td>0.148994</td>\n",
              "      <td>0.084400</td>\n",
              "      <td>0.022658</td>\n",
              "      <td>0.124117</td>\n",
              "      <td>1.000000</td>\n",
              "    </tr>\n",
              "  </tbody>\n",
              "</table>\n",
              "</div>"
            ],
            "text/plain": [
              "                     male       age  ...   glucose  TenYearCHD\n",
              "male             1.000000 -0.024142  ...  0.003130    0.096000\n",
              "age             -0.024142  1.000000  ...  0.118529    0.231584\n",
              "currentSmoker    0.203215 -0.211338  ... -0.054078    0.021709\n",
              "cigsPerDay       0.325886 -0.188804  ... -0.055090    0.055920\n",
              "BPMeds          -0.052355  0.131690  ...  0.052464    0.084740\n",
              "prevalentStroke -0.002513  0.050018  ...  0.015789    0.047684\n",
              "prevalentHyp     0.003588  0.305292  ...  0.085776    0.178615\n",
              "diabetes         0.011834  0.109321  ...  0.616087    0.093222\n",
              "totChol         -0.067595  0.261443  ...  0.046902    0.089613\n",
              "sysBP           -0.044515  0.388280  ...  0.132878    0.220108\n",
              "diaBP            0.053890  0.205191  ...  0.061731    0.148994\n",
              "BMI              0.074868  0.136428  ...  0.088133    0.084400\n",
              "heartRate       -0.115444 -0.005893  ...  0.099575    0.022658\n",
              "glucose          0.003130  0.118529  ...  1.000000    0.124117\n",
              "TenYearCHD       0.096000  0.231584  ...  0.124117    1.000000\n",
              "\n",
              "[15 rows x 15 columns]"
            ]
          },
          "metadata": {},
          "execution_count": 24
        }
      ]
    },
    {
      "cell_type": "markdown",
      "metadata": {
        "id": "AxU-caZnokwZ"
      },
      "source": [
        "According to the correlation matrix, it can be seen that there are some variables with low values. In the following steps, these variables will be further processed to improve their correlation and thus improve the performance of the model.\n",
        "* **male**: sex of patient\n",
        "* **currentSmoker**: Smoking behavior\n",
        "* **cigsPerDay**: Smoking behavior\n",
        "* **BPMeds**: On blood pressure medication at time of first examination\n",
        "* **prevalentStroke**: Previously had a stroke\n",
        "* **diabetes**: Currently has diabetes\n",
        "* **totChol**: Total cholesterol (mg/dL)\n",
        "* **BMI**: Body Mass Index, weight (kg)/height (m)2\n",
        "* **heartRate**: Heart rate (beats/minute)"
      ]
    },
    {
      "cell_type": "code",
      "metadata": {
        "id": "adbirmw0wfLo"
      },
      "source": [
        "df_eng = df.copy()"
      ],
      "execution_count": null,
      "outputs": []
    },
    {
      "cell_type": "markdown",
      "metadata": {
        "id": "LdqnGTjBxNNA"
      },
      "source": [
        "#### Create BMI Level variable\n",
        "Source: [American Heart Association - BMI level](https://www.heart.org/en/healthy-living/healthy-eating/losing-weight/bmi-in-adults)\n",
        "\n",
        "According to the classification of BMI by American Heart Association, I will classify these variables and generate a new variable: BMI_level.\n",
        "* Underweight: BMI <= 18.5 kg/m²\n",
        "* Healthy: 18.5 kg/m² < BMI < 24.9 kg/m²\n",
        "* Overweight: 25 kg/m² <= BMI < 30.0 kg/m²\n",
        "* Obesity: BMI >= 30.0 kg/m²\n",
        "* Extreme obesity: BMI >= 40 kg/m²"
      ]
    },
    {
      "cell_type": "code",
      "metadata": {
        "colab": {
          "base_uri": "https://localhost:8080/",
          "height": 224
        },
        "id": "Tf9C4uufw3Bk",
        "outputId": "70ae6b67-1d3e-4af4-b1d1-bd9b8df9280e"
      },
      "source": [
        "import numpy as np\n",
        "\n",
        "# create a list of our conditions\n",
        "conditions = [\n",
        "    (df_eng['BMI'] <= 18.5),\n",
        "    (df_eng['BMI'] > 18.5) & (df_eng['BMI'] < 25),\n",
        "    (df_eng['BMI'] >= 25) & (df_eng['BMI'] < 30),\n",
        "    (df_eng['BMI'] >= 30) & (df_eng['BMI'] < 40),\n",
        "    (df_eng['BMI'] >= 40)\n",
        "    ]\n",
        "\n",
        "# create a list of the values we want to assign for each condition\n",
        "values = ['Underweight', 'Healthy', 'Overweight', 'Obesity', 'Extreme obesity']\n",
        "\n",
        "# create a new column and use np.select to assign values to it using our lists as arguments\n",
        "df_eng['BMI_level'] = np.select(conditions, values)\n",
        "\n",
        "# display updated DataFrame\n",
        "df.head()"
      ],
      "execution_count": null,
      "outputs": [
        {
          "output_type": "execute_result",
          "data": {
            "text/html": [
              "<div>\n",
              "<style scoped>\n",
              "    .dataframe tbody tr th:only-of-type {\n",
              "        vertical-align: middle;\n",
              "    }\n",
              "\n",
              "    .dataframe tbody tr th {\n",
              "        vertical-align: top;\n",
              "    }\n",
              "\n",
              "    .dataframe thead th {\n",
              "        text-align: right;\n",
              "    }\n",
              "</style>\n",
              "<table border=\"1\" class=\"dataframe\">\n",
              "  <thead>\n",
              "    <tr style=\"text-align: right;\">\n",
              "      <th></th>\n",
              "      <th>male</th>\n",
              "      <th>age</th>\n",
              "      <th>currentSmoker</th>\n",
              "      <th>cigsPerDay</th>\n",
              "      <th>BPMeds</th>\n",
              "      <th>prevalentStroke</th>\n",
              "      <th>prevalentHyp</th>\n",
              "      <th>diabetes</th>\n",
              "      <th>totChol</th>\n",
              "      <th>sysBP</th>\n",
              "      <th>diaBP</th>\n",
              "      <th>BMI</th>\n",
              "      <th>heartRate</th>\n",
              "      <th>glucose</th>\n",
              "      <th>TenYearCHD</th>\n",
              "    </tr>\n",
              "  </thead>\n",
              "  <tbody>\n",
              "    <tr>\n",
              "      <th>0</th>\n",
              "      <td>1</td>\n",
              "      <td>39</td>\n",
              "      <td>0</td>\n",
              "      <td>0.0</td>\n",
              "      <td>0.0</td>\n",
              "      <td>0</td>\n",
              "      <td>0</td>\n",
              "      <td>0</td>\n",
              "      <td>195.0</td>\n",
              "      <td>106.0</td>\n",
              "      <td>70.0</td>\n",
              "      <td>26.97</td>\n",
              "      <td>80.0</td>\n",
              "      <td>77.0</td>\n",
              "      <td>0</td>\n",
              "    </tr>\n",
              "    <tr>\n",
              "      <th>1</th>\n",
              "      <td>0</td>\n",
              "      <td>46</td>\n",
              "      <td>0</td>\n",
              "      <td>0.0</td>\n",
              "      <td>0.0</td>\n",
              "      <td>0</td>\n",
              "      <td>0</td>\n",
              "      <td>0</td>\n",
              "      <td>250.0</td>\n",
              "      <td>121.0</td>\n",
              "      <td>81.0</td>\n",
              "      <td>28.73</td>\n",
              "      <td>95.0</td>\n",
              "      <td>76.0</td>\n",
              "      <td>0</td>\n",
              "    </tr>\n",
              "    <tr>\n",
              "      <th>2</th>\n",
              "      <td>1</td>\n",
              "      <td>48</td>\n",
              "      <td>1</td>\n",
              "      <td>20.0</td>\n",
              "      <td>0.0</td>\n",
              "      <td>0</td>\n",
              "      <td>0</td>\n",
              "      <td>0</td>\n",
              "      <td>245.0</td>\n",
              "      <td>127.5</td>\n",
              "      <td>80.0</td>\n",
              "      <td>25.34</td>\n",
              "      <td>75.0</td>\n",
              "      <td>70.0</td>\n",
              "      <td>0</td>\n",
              "    </tr>\n",
              "    <tr>\n",
              "      <th>3</th>\n",
              "      <td>0</td>\n",
              "      <td>61</td>\n",
              "      <td>1</td>\n",
              "      <td>30.0</td>\n",
              "      <td>0.0</td>\n",
              "      <td>0</td>\n",
              "      <td>1</td>\n",
              "      <td>0</td>\n",
              "      <td>225.0</td>\n",
              "      <td>150.0</td>\n",
              "      <td>95.0</td>\n",
              "      <td>28.58</td>\n",
              "      <td>65.0</td>\n",
              "      <td>103.0</td>\n",
              "      <td>1</td>\n",
              "    </tr>\n",
              "    <tr>\n",
              "      <th>4</th>\n",
              "      <td>0</td>\n",
              "      <td>46</td>\n",
              "      <td>1</td>\n",
              "      <td>23.0</td>\n",
              "      <td>0.0</td>\n",
              "      <td>0</td>\n",
              "      <td>0</td>\n",
              "      <td>0</td>\n",
              "      <td>285.0</td>\n",
              "      <td>130.0</td>\n",
              "      <td>84.0</td>\n",
              "      <td>23.10</td>\n",
              "      <td>85.0</td>\n",
              "      <td>85.0</td>\n",
              "      <td>0</td>\n",
              "    </tr>\n",
              "  </tbody>\n",
              "</table>\n",
              "</div>"
            ],
            "text/plain": [
              "   male  age  currentSmoker  cigsPerDay  ...    BMI  heartRate  glucose  TenYearCHD\n",
              "0     1   39              0         0.0  ...  26.97       80.0     77.0           0\n",
              "1     0   46              0         0.0  ...  28.73       95.0     76.0           0\n",
              "2     1   48              1        20.0  ...  25.34       75.0     70.0           0\n",
              "3     0   61              1        30.0  ...  28.58       65.0    103.0           1\n",
              "4     0   46              1        23.0  ...  23.10       85.0     85.0           0\n",
              "\n",
              "[5 rows x 15 columns]"
            ]
          },
          "metadata": {},
          "execution_count": 26
        }
      ]
    },
    {
      "cell_type": "markdown",
      "metadata": {
        "id": "G1HqcIKq05uo"
      },
      "source": [
        "#### Create totChol Level variable\n",
        "Source: [Medical News Today - Cholesterol range](https://www.medicalnewstoday.com/articles/315900)\n",
        "\n",
        "According to the classification of Total Cholesterol by Medical News Today, I will classify these variables and generate a new variable: totChol_range.\n",
        "* Desirable: totChol <= 200 mg/dL\n",
        "* Borderline High: 200 mg/dL < totChol < 240 mg/dL\n",
        "* High: totChol >= 240 mg/dL"
      ]
    },
    {
      "cell_type": "code",
      "metadata": {
        "colab": {
          "base_uri": "https://localhost:8080/",
          "height": 224
        },
        "id": "Q6y4uAsX2AYR",
        "outputId": "c7325b2d-8e24-4c89-e3c0-97acacb4a5bb"
      },
      "source": [
        "import numpy as np\n",
        "\n",
        "# create a list of our conditions\n",
        "conditions = [\n",
        "    (df_eng['totChol'] <= 200),\n",
        "    (df_eng['totChol'] > 200) & (df_eng['totChol'] < 240),\n",
        "    (df_eng['totChol'] >= 240)\n",
        "    ]\n",
        "\n",
        "# create a list of the values we want to assign for each condition\n",
        "values = ['Desirable', 'Borderline High', 'High']\n",
        "\n",
        "# create a new column and use np.select to assign values to it using our lists as arguments\n",
        "df_eng['totChol_level'] = np.select(conditions, values)\n",
        "\n",
        "# display updated DataFrame\n",
        "df.head()"
      ],
      "execution_count": null,
      "outputs": [
        {
          "output_type": "execute_result",
          "data": {
            "text/html": [
              "<div>\n",
              "<style scoped>\n",
              "    .dataframe tbody tr th:only-of-type {\n",
              "        vertical-align: middle;\n",
              "    }\n",
              "\n",
              "    .dataframe tbody tr th {\n",
              "        vertical-align: top;\n",
              "    }\n",
              "\n",
              "    .dataframe thead th {\n",
              "        text-align: right;\n",
              "    }\n",
              "</style>\n",
              "<table border=\"1\" class=\"dataframe\">\n",
              "  <thead>\n",
              "    <tr style=\"text-align: right;\">\n",
              "      <th></th>\n",
              "      <th>male</th>\n",
              "      <th>age</th>\n",
              "      <th>currentSmoker</th>\n",
              "      <th>cigsPerDay</th>\n",
              "      <th>BPMeds</th>\n",
              "      <th>prevalentStroke</th>\n",
              "      <th>prevalentHyp</th>\n",
              "      <th>diabetes</th>\n",
              "      <th>totChol</th>\n",
              "      <th>sysBP</th>\n",
              "      <th>diaBP</th>\n",
              "      <th>BMI</th>\n",
              "      <th>heartRate</th>\n",
              "      <th>glucose</th>\n",
              "      <th>TenYearCHD</th>\n",
              "    </tr>\n",
              "  </thead>\n",
              "  <tbody>\n",
              "    <tr>\n",
              "      <th>0</th>\n",
              "      <td>1</td>\n",
              "      <td>39</td>\n",
              "      <td>0</td>\n",
              "      <td>0.0</td>\n",
              "      <td>0.0</td>\n",
              "      <td>0</td>\n",
              "      <td>0</td>\n",
              "      <td>0</td>\n",
              "      <td>195.0</td>\n",
              "      <td>106.0</td>\n",
              "      <td>70.0</td>\n",
              "      <td>26.97</td>\n",
              "      <td>80.0</td>\n",
              "      <td>77.0</td>\n",
              "      <td>0</td>\n",
              "    </tr>\n",
              "    <tr>\n",
              "      <th>1</th>\n",
              "      <td>0</td>\n",
              "      <td>46</td>\n",
              "      <td>0</td>\n",
              "      <td>0.0</td>\n",
              "      <td>0.0</td>\n",
              "      <td>0</td>\n",
              "      <td>0</td>\n",
              "      <td>0</td>\n",
              "      <td>250.0</td>\n",
              "      <td>121.0</td>\n",
              "      <td>81.0</td>\n",
              "      <td>28.73</td>\n",
              "      <td>95.0</td>\n",
              "      <td>76.0</td>\n",
              "      <td>0</td>\n",
              "    </tr>\n",
              "    <tr>\n",
              "      <th>2</th>\n",
              "      <td>1</td>\n",
              "      <td>48</td>\n",
              "      <td>1</td>\n",
              "      <td>20.0</td>\n",
              "      <td>0.0</td>\n",
              "      <td>0</td>\n",
              "      <td>0</td>\n",
              "      <td>0</td>\n",
              "      <td>245.0</td>\n",
              "      <td>127.5</td>\n",
              "      <td>80.0</td>\n",
              "      <td>25.34</td>\n",
              "      <td>75.0</td>\n",
              "      <td>70.0</td>\n",
              "      <td>0</td>\n",
              "    </tr>\n",
              "    <tr>\n",
              "      <th>3</th>\n",
              "      <td>0</td>\n",
              "      <td>61</td>\n",
              "      <td>1</td>\n",
              "      <td>30.0</td>\n",
              "      <td>0.0</td>\n",
              "      <td>0</td>\n",
              "      <td>1</td>\n",
              "      <td>0</td>\n",
              "      <td>225.0</td>\n",
              "      <td>150.0</td>\n",
              "      <td>95.0</td>\n",
              "      <td>28.58</td>\n",
              "      <td>65.0</td>\n",
              "      <td>103.0</td>\n",
              "      <td>1</td>\n",
              "    </tr>\n",
              "    <tr>\n",
              "      <th>4</th>\n",
              "      <td>0</td>\n",
              "      <td>46</td>\n",
              "      <td>1</td>\n",
              "      <td>23.0</td>\n",
              "      <td>0.0</td>\n",
              "      <td>0</td>\n",
              "      <td>0</td>\n",
              "      <td>0</td>\n",
              "      <td>285.0</td>\n",
              "      <td>130.0</td>\n",
              "      <td>84.0</td>\n",
              "      <td>23.10</td>\n",
              "      <td>85.0</td>\n",
              "      <td>85.0</td>\n",
              "      <td>0</td>\n",
              "    </tr>\n",
              "  </tbody>\n",
              "</table>\n",
              "</div>"
            ],
            "text/plain": [
              "   male  age  currentSmoker  cigsPerDay  ...    BMI  heartRate  glucose  TenYearCHD\n",
              "0     1   39              0         0.0  ...  26.97       80.0     77.0           0\n",
              "1     0   46              0         0.0  ...  28.73       95.0     76.0           0\n",
              "2     1   48              1        20.0  ...  25.34       75.0     70.0           0\n",
              "3     0   61              1        30.0  ...  28.58       65.0    103.0           1\n",
              "4     0   46              1        23.0  ...  23.10       85.0     85.0           0\n",
              "\n",
              "[5 rows x 15 columns]"
            ]
          },
          "metadata": {},
          "execution_count": 27
        }
      ]
    },
    {
      "cell_type": "markdown",
      "metadata": {
        "id": "kSEg9R3m2ZJ2"
      },
      "source": [
        "#### Create BP (Blood Pressure) Level variable\n",
        "Source: [American Heart Association - Blood Pressure range](https://www.heart.org/en/health-topics/high-blood-pressure/understanding-blood-pressure-readings)\n",
        "\n",
        "According to the classification of Blood Pressure by American Heart Association, I will classify these variables and generate a new variable: BP_level.\n",
        "* Normal: sysBP <= 120 mmHg && diaBP <= 80 mmHg\n",
        "* Elevated: 120 mmHg < sysBP < 130 mmHg && diaBP <= 80 mmHg\n",
        "* High blood pressure 1: 130 mmHg <= sysBP < 140 mmHg || 80 mmHg < diaBP < 90 mmHg\n",
        "* High blood pressure 2: sysBP >= 140 mmHg || diaBP >= 90 mmHg\n",
        "* Hypertensive Crisis: sysBP >= 180 mmHg && diaBP >= 120 mmHg"
      ]
    },
    {
      "cell_type": "code",
      "metadata": {
        "colab": {
          "base_uri": "https://localhost:8080/",
          "height": 224
        },
        "id": "DZtyQhdM2YeN",
        "outputId": "718601b9-b9f5-4fc3-9904-3ad3b490bb68"
      },
      "source": [
        "import numpy as np\n",
        "\n",
        "# create a list of our conditions\n",
        "conditions = [\n",
        "    (df_eng['sysBP'] <= 120) & (df_eng['diaBP'] <= 80),\n",
        "    ((df_eng['sysBP'] > 120) & (df_eng['sysBP'] < 130)) & (df_eng['diaBP'] <= 80),\n",
        "    ((df_eng['sysBP'] >= 130) & (df_eng['sysBP'] < 140)) | ((df_eng['diaBP'] > 80) & (df_eng['diaBP'] <= 90)),\n",
        "    (df_eng['sysBP'] >= 140) & (df_eng['diaBP'] >= 90),\n",
        "    (df_eng['sysBP'] >= 180) & (df_eng['diaBP'] >= 120)\n",
        "    ]\n",
        "\n",
        "# create a list of the values we want to assign for each condition\n",
        "values = ['Normal', 'Elevated', 'High blood pressure 1', 'High blood pressure 2', 'Hypertensive Crisis']\n",
        "\n",
        "# create a new column and use np.select to assign values to it using our lists as arguments\n",
        "df_eng['BP_level'] = np.select(conditions, values)\n",
        "\n",
        "# display updated DataFrame\n",
        "df.head()"
      ],
      "execution_count": null,
      "outputs": [
        {
          "output_type": "execute_result",
          "data": {
            "text/html": [
              "<div>\n",
              "<style scoped>\n",
              "    .dataframe tbody tr th:only-of-type {\n",
              "        vertical-align: middle;\n",
              "    }\n",
              "\n",
              "    .dataframe tbody tr th {\n",
              "        vertical-align: top;\n",
              "    }\n",
              "\n",
              "    .dataframe thead th {\n",
              "        text-align: right;\n",
              "    }\n",
              "</style>\n",
              "<table border=\"1\" class=\"dataframe\">\n",
              "  <thead>\n",
              "    <tr style=\"text-align: right;\">\n",
              "      <th></th>\n",
              "      <th>male</th>\n",
              "      <th>age</th>\n",
              "      <th>currentSmoker</th>\n",
              "      <th>cigsPerDay</th>\n",
              "      <th>BPMeds</th>\n",
              "      <th>prevalentStroke</th>\n",
              "      <th>prevalentHyp</th>\n",
              "      <th>diabetes</th>\n",
              "      <th>totChol</th>\n",
              "      <th>sysBP</th>\n",
              "      <th>diaBP</th>\n",
              "      <th>BMI</th>\n",
              "      <th>heartRate</th>\n",
              "      <th>glucose</th>\n",
              "      <th>TenYearCHD</th>\n",
              "    </tr>\n",
              "  </thead>\n",
              "  <tbody>\n",
              "    <tr>\n",
              "      <th>0</th>\n",
              "      <td>1</td>\n",
              "      <td>39</td>\n",
              "      <td>0</td>\n",
              "      <td>0.0</td>\n",
              "      <td>0.0</td>\n",
              "      <td>0</td>\n",
              "      <td>0</td>\n",
              "      <td>0</td>\n",
              "      <td>195.0</td>\n",
              "      <td>106.0</td>\n",
              "      <td>70.0</td>\n",
              "      <td>26.97</td>\n",
              "      <td>80.0</td>\n",
              "      <td>77.0</td>\n",
              "      <td>0</td>\n",
              "    </tr>\n",
              "    <tr>\n",
              "      <th>1</th>\n",
              "      <td>0</td>\n",
              "      <td>46</td>\n",
              "      <td>0</td>\n",
              "      <td>0.0</td>\n",
              "      <td>0.0</td>\n",
              "      <td>0</td>\n",
              "      <td>0</td>\n",
              "      <td>0</td>\n",
              "      <td>250.0</td>\n",
              "      <td>121.0</td>\n",
              "      <td>81.0</td>\n",
              "      <td>28.73</td>\n",
              "      <td>95.0</td>\n",
              "      <td>76.0</td>\n",
              "      <td>0</td>\n",
              "    </tr>\n",
              "    <tr>\n",
              "      <th>2</th>\n",
              "      <td>1</td>\n",
              "      <td>48</td>\n",
              "      <td>1</td>\n",
              "      <td>20.0</td>\n",
              "      <td>0.0</td>\n",
              "      <td>0</td>\n",
              "      <td>0</td>\n",
              "      <td>0</td>\n",
              "      <td>245.0</td>\n",
              "      <td>127.5</td>\n",
              "      <td>80.0</td>\n",
              "      <td>25.34</td>\n",
              "      <td>75.0</td>\n",
              "      <td>70.0</td>\n",
              "      <td>0</td>\n",
              "    </tr>\n",
              "    <tr>\n",
              "      <th>3</th>\n",
              "      <td>0</td>\n",
              "      <td>61</td>\n",
              "      <td>1</td>\n",
              "      <td>30.0</td>\n",
              "      <td>0.0</td>\n",
              "      <td>0</td>\n",
              "      <td>1</td>\n",
              "      <td>0</td>\n",
              "      <td>225.0</td>\n",
              "      <td>150.0</td>\n",
              "      <td>95.0</td>\n",
              "      <td>28.58</td>\n",
              "      <td>65.0</td>\n",
              "      <td>103.0</td>\n",
              "      <td>1</td>\n",
              "    </tr>\n",
              "    <tr>\n",
              "      <th>4</th>\n",
              "      <td>0</td>\n",
              "      <td>46</td>\n",
              "      <td>1</td>\n",
              "      <td>23.0</td>\n",
              "      <td>0.0</td>\n",
              "      <td>0</td>\n",
              "      <td>0</td>\n",
              "      <td>0</td>\n",
              "      <td>285.0</td>\n",
              "      <td>130.0</td>\n",
              "      <td>84.0</td>\n",
              "      <td>23.10</td>\n",
              "      <td>85.0</td>\n",
              "      <td>85.0</td>\n",
              "      <td>0</td>\n",
              "    </tr>\n",
              "  </tbody>\n",
              "</table>\n",
              "</div>"
            ],
            "text/plain": [
              "   male  age  currentSmoker  cigsPerDay  ...    BMI  heartRate  glucose  TenYearCHD\n",
              "0     1   39              0         0.0  ...  26.97       80.0     77.0           0\n",
              "1     0   46              0         0.0  ...  28.73       95.0     76.0           0\n",
              "2     1   48              1        20.0  ...  25.34       75.0     70.0           0\n",
              "3     0   61              1        30.0  ...  28.58       65.0    103.0           1\n",
              "4     0   46              1        23.0  ...  23.10       85.0     85.0           0\n",
              "\n",
              "[5 rows x 15 columns]"
            ]
          },
          "metadata": {},
          "execution_count": 28
        }
      ]
    },
    {
      "cell_type": "markdown",
      "metadata": {
        "id": "ehxkKQdw-uKk"
      },
      "source": [
        "#### Preprocessing - categorical variables\n",
        "\n",
        "After adding new variables, there are some categorical variables, which we will handle next."
      ]
    },
    {
      "cell_type": "code",
      "metadata": {
        "colab": {
          "base_uri": "https://localhost:8080/",
          "height": 258
        },
        "id": "ddy0V5Bw-9ur",
        "outputId": "7c1b0a71-70c5-40a2-f6e9-67522e9ead10"
      },
      "source": [
        "df_eng = pd.get_dummies(df_eng, columns=['BMI_level', 'totChol_level', 'BP_level'])\n",
        "df_eng.head()"
      ],
      "execution_count": null,
      "outputs": [
        {
          "output_type": "execute_result",
          "data": {
            "text/html": [
              "<div>\n",
              "<style scoped>\n",
              "    .dataframe tbody tr th:only-of-type {\n",
              "        vertical-align: middle;\n",
              "    }\n",
              "\n",
              "    .dataframe tbody tr th {\n",
              "        vertical-align: top;\n",
              "    }\n",
              "\n",
              "    .dataframe thead th {\n",
              "        text-align: right;\n",
              "    }\n",
              "</style>\n",
              "<table border=\"1\" class=\"dataframe\">\n",
              "  <thead>\n",
              "    <tr style=\"text-align: right;\">\n",
              "      <th></th>\n",
              "      <th>male</th>\n",
              "      <th>age</th>\n",
              "      <th>currentSmoker</th>\n",
              "      <th>cigsPerDay</th>\n",
              "      <th>BPMeds</th>\n",
              "      <th>prevalentStroke</th>\n",
              "      <th>prevalentHyp</th>\n",
              "      <th>diabetes</th>\n",
              "      <th>totChol</th>\n",
              "      <th>sysBP</th>\n",
              "      <th>diaBP</th>\n",
              "      <th>BMI</th>\n",
              "      <th>heartRate</th>\n",
              "      <th>glucose</th>\n",
              "      <th>TenYearCHD</th>\n",
              "      <th>BMI_level_Extreme obesity</th>\n",
              "      <th>BMI_level_Healthy</th>\n",
              "      <th>BMI_level_Obesity</th>\n",
              "      <th>BMI_level_Overweight</th>\n",
              "      <th>BMI_level_Underweight</th>\n",
              "      <th>totChol_level_Borderline High</th>\n",
              "      <th>totChol_level_Desirable</th>\n",
              "      <th>totChol_level_High</th>\n",
              "      <th>BP_level_0</th>\n",
              "      <th>BP_level_Elevated</th>\n",
              "      <th>BP_level_High blood pressure 1</th>\n",
              "      <th>BP_level_High blood pressure 2</th>\n",
              "      <th>BP_level_Normal</th>\n",
              "    </tr>\n",
              "  </thead>\n",
              "  <tbody>\n",
              "    <tr>\n",
              "      <th>0</th>\n",
              "      <td>1</td>\n",
              "      <td>39</td>\n",
              "      <td>0</td>\n",
              "      <td>0.0</td>\n",
              "      <td>0.0</td>\n",
              "      <td>0</td>\n",
              "      <td>0</td>\n",
              "      <td>0</td>\n",
              "      <td>195.0</td>\n",
              "      <td>106.0</td>\n",
              "      <td>70.0</td>\n",
              "      <td>26.97</td>\n",
              "      <td>80.0</td>\n",
              "      <td>77.0</td>\n",
              "      <td>0</td>\n",
              "      <td>0</td>\n",
              "      <td>0</td>\n",
              "      <td>0</td>\n",
              "      <td>1</td>\n",
              "      <td>0</td>\n",
              "      <td>0</td>\n",
              "      <td>1</td>\n",
              "      <td>0</td>\n",
              "      <td>0</td>\n",
              "      <td>0</td>\n",
              "      <td>0</td>\n",
              "      <td>0</td>\n",
              "      <td>1</td>\n",
              "    </tr>\n",
              "    <tr>\n",
              "      <th>1</th>\n",
              "      <td>0</td>\n",
              "      <td>46</td>\n",
              "      <td>0</td>\n",
              "      <td>0.0</td>\n",
              "      <td>0.0</td>\n",
              "      <td>0</td>\n",
              "      <td>0</td>\n",
              "      <td>0</td>\n",
              "      <td>250.0</td>\n",
              "      <td>121.0</td>\n",
              "      <td>81.0</td>\n",
              "      <td>28.73</td>\n",
              "      <td>95.0</td>\n",
              "      <td>76.0</td>\n",
              "      <td>0</td>\n",
              "      <td>0</td>\n",
              "      <td>0</td>\n",
              "      <td>0</td>\n",
              "      <td>1</td>\n",
              "      <td>0</td>\n",
              "      <td>0</td>\n",
              "      <td>0</td>\n",
              "      <td>1</td>\n",
              "      <td>0</td>\n",
              "      <td>0</td>\n",
              "      <td>1</td>\n",
              "      <td>0</td>\n",
              "      <td>0</td>\n",
              "    </tr>\n",
              "    <tr>\n",
              "      <th>2</th>\n",
              "      <td>1</td>\n",
              "      <td>48</td>\n",
              "      <td>1</td>\n",
              "      <td>20.0</td>\n",
              "      <td>0.0</td>\n",
              "      <td>0</td>\n",
              "      <td>0</td>\n",
              "      <td>0</td>\n",
              "      <td>245.0</td>\n",
              "      <td>127.5</td>\n",
              "      <td>80.0</td>\n",
              "      <td>25.34</td>\n",
              "      <td>75.0</td>\n",
              "      <td>70.0</td>\n",
              "      <td>0</td>\n",
              "      <td>0</td>\n",
              "      <td>0</td>\n",
              "      <td>0</td>\n",
              "      <td>1</td>\n",
              "      <td>0</td>\n",
              "      <td>0</td>\n",
              "      <td>0</td>\n",
              "      <td>1</td>\n",
              "      <td>0</td>\n",
              "      <td>1</td>\n",
              "      <td>0</td>\n",
              "      <td>0</td>\n",
              "      <td>0</td>\n",
              "    </tr>\n",
              "    <tr>\n",
              "      <th>3</th>\n",
              "      <td>0</td>\n",
              "      <td>61</td>\n",
              "      <td>1</td>\n",
              "      <td>30.0</td>\n",
              "      <td>0.0</td>\n",
              "      <td>0</td>\n",
              "      <td>1</td>\n",
              "      <td>0</td>\n",
              "      <td>225.0</td>\n",
              "      <td>150.0</td>\n",
              "      <td>95.0</td>\n",
              "      <td>28.58</td>\n",
              "      <td>65.0</td>\n",
              "      <td>103.0</td>\n",
              "      <td>1</td>\n",
              "      <td>0</td>\n",
              "      <td>0</td>\n",
              "      <td>0</td>\n",
              "      <td>1</td>\n",
              "      <td>0</td>\n",
              "      <td>1</td>\n",
              "      <td>0</td>\n",
              "      <td>0</td>\n",
              "      <td>0</td>\n",
              "      <td>0</td>\n",
              "      <td>0</td>\n",
              "      <td>1</td>\n",
              "      <td>0</td>\n",
              "    </tr>\n",
              "    <tr>\n",
              "      <th>4</th>\n",
              "      <td>0</td>\n",
              "      <td>46</td>\n",
              "      <td>1</td>\n",
              "      <td>23.0</td>\n",
              "      <td>0.0</td>\n",
              "      <td>0</td>\n",
              "      <td>0</td>\n",
              "      <td>0</td>\n",
              "      <td>285.0</td>\n",
              "      <td>130.0</td>\n",
              "      <td>84.0</td>\n",
              "      <td>23.10</td>\n",
              "      <td>85.0</td>\n",
              "      <td>85.0</td>\n",
              "      <td>0</td>\n",
              "      <td>0</td>\n",
              "      <td>1</td>\n",
              "      <td>0</td>\n",
              "      <td>0</td>\n",
              "      <td>0</td>\n",
              "      <td>0</td>\n",
              "      <td>0</td>\n",
              "      <td>1</td>\n",
              "      <td>0</td>\n",
              "      <td>0</td>\n",
              "      <td>1</td>\n",
              "      <td>0</td>\n",
              "      <td>0</td>\n",
              "    </tr>\n",
              "  </tbody>\n",
              "</table>\n",
              "</div>"
            ],
            "text/plain": [
              "   male  age  ...  BP_level_High blood pressure 2  BP_level_Normal\n",
              "0     1   39  ...                               0                1\n",
              "1     0   46  ...                               0                0\n",
              "2     1   48  ...                               0                0\n",
              "3     0   61  ...                               1                0\n",
              "4     0   46  ...                               0                0\n",
              "\n",
              "[5 rows x 28 columns]"
            ]
          },
          "metadata": {},
          "execution_count": 29
        }
      ]
    },
    {
      "cell_type": "markdown",
      "metadata": {
        "id": "EMWOenCA-T6X"
      },
      "source": [
        "Now let's see if the correlation matrix is improved after adding new variables。"
      ]
    },
    {
      "cell_type": "code",
      "metadata": {
        "colab": {
          "base_uri": "https://localhost:8080/",
          "height": 1000
        },
        "id": "kFZxs7kJ-MC0",
        "outputId": "7156ca31-4926-4351-a7ca-c6ab6d53e520"
      },
      "source": [
        "df_eng.corr()"
      ],
      "execution_count": null,
      "outputs": [
        {
          "output_type": "execute_result",
          "data": {
            "text/html": [
              "<div>\n",
              "<style scoped>\n",
              "    .dataframe tbody tr th:only-of-type {\n",
              "        vertical-align: middle;\n",
              "    }\n",
              "\n",
              "    .dataframe tbody tr th {\n",
              "        vertical-align: top;\n",
              "    }\n",
              "\n",
              "    .dataframe thead th {\n",
              "        text-align: right;\n",
              "    }\n",
              "</style>\n",
              "<table border=\"1\" class=\"dataframe\">\n",
              "  <thead>\n",
              "    <tr style=\"text-align: right;\">\n",
              "      <th></th>\n",
              "      <th>male</th>\n",
              "      <th>age</th>\n",
              "      <th>currentSmoker</th>\n",
              "      <th>cigsPerDay</th>\n",
              "      <th>BPMeds</th>\n",
              "      <th>prevalentStroke</th>\n",
              "      <th>prevalentHyp</th>\n",
              "      <th>diabetes</th>\n",
              "      <th>totChol</th>\n",
              "      <th>sysBP</th>\n",
              "      <th>diaBP</th>\n",
              "      <th>BMI</th>\n",
              "      <th>heartRate</th>\n",
              "      <th>glucose</th>\n",
              "      <th>TenYearCHD</th>\n",
              "      <th>BMI_level_Extreme obesity</th>\n",
              "      <th>BMI_level_Healthy</th>\n",
              "      <th>BMI_level_Obesity</th>\n",
              "      <th>BMI_level_Overweight</th>\n",
              "      <th>BMI_level_Underweight</th>\n",
              "      <th>totChol_level_Borderline High</th>\n",
              "      <th>totChol_level_Desirable</th>\n",
              "      <th>totChol_level_High</th>\n",
              "      <th>BP_level_0</th>\n",
              "      <th>BP_level_Elevated</th>\n",
              "      <th>BP_level_High blood pressure 1</th>\n",
              "      <th>BP_level_High blood pressure 2</th>\n",
              "      <th>BP_level_Normal</th>\n",
              "    </tr>\n",
              "  </thead>\n",
              "  <tbody>\n",
              "    <tr>\n",
              "      <th>male</th>\n",
              "      <td>1.000000</td>\n",
              "      <td>-0.024142</td>\n",
              "      <td>0.203215</td>\n",
              "      <td>0.325886</td>\n",
              "      <td>-0.052355</td>\n",
              "      <td>-0.002513</td>\n",
              "      <td>0.003588</td>\n",
              "      <td>0.011834</td>\n",
              "      <td>-0.067595</td>\n",
              "      <td>-0.044515</td>\n",
              "      <td>0.053890</td>\n",
              "      <td>0.074868</td>\n",
              "      <td>-0.115444</td>\n",
              "      <td>0.003130</td>\n",
              "      <td>0.096000</td>\n",
              "      <td>-0.047733</td>\n",
              "      <td>-0.141340</td>\n",
              "      <td>-0.023459</td>\n",
              "      <td>0.177342</td>\n",
              "      <td>-0.052671</td>\n",
              "      <td>0.076178</td>\n",
              "      <td>-0.003725</td>\n",
              "      <td>-0.069445</td>\n",
              "      <td>-0.011863</td>\n",
              "      <td>-0.014136</td>\n",
              "      <td>0.055701</td>\n",
              "      <td>0.002367</td>\n",
              "      <td>-0.048519</td>\n",
              "    </tr>\n",
              "    <tr>\n",
              "      <th>age</th>\n",
              "      <td>-0.024142</td>\n",
              "      <td>1.000000</td>\n",
              "      <td>-0.211338</td>\n",
              "      <td>-0.188804</td>\n",
              "      <td>0.131690</td>\n",
              "      <td>0.050018</td>\n",
              "      <td>0.305292</td>\n",
              "      <td>0.109321</td>\n",
              "      <td>0.261443</td>\n",
              "      <td>0.388280</td>\n",
              "      <td>0.205191</td>\n",
              "      <td>0.136428</td>\n",
              "      <td>-0.005893</td>\n",
              "      <td>0.118529</td>\n",
              "      <td>0.231584</td>\n",
              "      <td>0.036418</td>\n",
              "      <td>-0.129391</td>\n",
              "      <td>0.061335</td>\n",
              "      <td>0.090769</td>\n",
              "      <td>-0.028667</td>\n",
              "      <td>-0.042708</td>\n",
              "      <td>-0.233309</td>\n",
              "      <td>0.231664</td>\n",
              "      <td>0.075732</td>\n",
              "      <td>-0.008370</td>\n",
              "      <td>0.041839</td>\n",
              "      <td>0.208924</td>\n",
              "      <td>-0.251690</td>\n",
              "    </tr>\n",
              "    <tr>\n",
              "      <th>currentSmoker</th>\n",
              "      <td>0.203215</td>\n",
              "      <td>-0.211338</td>\n",
              "      <td>1.000000</td>\n",
              "      <td>0.773259</td>\n",
              "      <td>-0.051816</td>\n",
              "      <td>-0.037573</td>\n",
              "      <td>-0.105258</td>\n",
              "      <td>-0.045308</td>\n",
              "      <td>-0.049945</td>\n",
              "      <td>-0.133154</td>\n",
              "      <td>-0.114118</td>\n",
              "      <td>-0.165404</td>\n",
              "      <td>0.054924</td>\n",
              "      <td>-0.054078</td>\n",
              "      <td>0.021709</td>\n",
              "      <td>-0.033141</td>\n",
              "      <td>0.141454</td>\n",
              "      <td>-0.109368</td>\n",
              "      <td>-0.074334</td>\n",
              "      <td>0.039901</td>\n",
              "      <td>-0.010968</td>\n",
              "      <td>0.052551</td>\n",
              "      <td>-0.032588</td>\n",
              "      <td>-0.048494</td>\n",
              "      <td>0.021995</td>\n",
              "      <td>-0.040702</td>\n",
              "      <td>-0.070125</td>\n",
              "      <td>0.110724</td>\n",
              "    </tr>\n",
              "    <tr>\n",
              "      <th>cigsPerDay</th>\n",
              "      <td>0.325886</td>\n",
              "      <td>-0.188804</td>\n",
              "      <td>0.773259</td>\n",
              "      <td>1.000000</td>\n",
              "      <td>-0.046625</td>\n",
              "      <td>-0.035713</td>\n",
              "      <td>-0.067470</td>\n",
              "      <td>-0.039436</td>\n",
              "      <td>-0.030600</td>\n",
              "      <td>-0.092310</td>\n",
              "      <td>-0.056202</td>\n",
              "      <td>-0.090525</td>\n",
              "      <td>0.067194</td>\n",
              "      <td>-0.055090</td>\n",
              "      <td>0.055920</td>\n",
              "      <td>-0.029629</td>\n",
              "      <td>0.068485</td>\n",
              "      <td>-0.059399</td>\n",
              "      <td>-0.029519</td>\n",
              "      <td>0.018828</td>\n",
              "      <td>0.007042</td>\n",
              "      <td>0.012859</td>\n",
              "      <td>-0.017230</td>\n",
              "      <td>-0.039389</td>\n",
              "      <td>0.013294</td>\n",
              "      <td>-0.008518</td>\n",
              "      <td>-0.045166</td>\n",
              "      <td>0.056012</td>\n",
              "    </tr>\n",
              "    <tr>\n",
              "      <th>BPMeds</th>\n",
              "      <td>-0.052355</td>\n",
              "      <td>0.131690</td>\n",
              "      <td>-0.051816</td>\n",
              "      <td>-0.046625</td>\n",
              "      <td>1.000000</td>\n",
              "      <td>0.111601</td>\n",
              "      <td>0.262955</td>\n",
              "      <td>0.056337</td>\n",
              "      <td>0.089625</td>\n",
              "      <td>0.269479</td>\n",
              "      <td>0.199282</td>\n",
              "      <td>0.105128</td>\n",
              "      <td>0.010228</td>\n",
              "      <td>0.052464</td>\n",
              "      <td>0.084740</td>\n",
              "      <td>0.027078</td>\n",
              "      <td>-0.069744</td>\n",
              "      <td>0.072811</td>\n",
              "      <td>0.019590</td>\n",
              "      <td>-0.007036</td>\n",
              "      <td>-0.021939</td>\n",
              "      <td>-0.053178</td>\n",
              "      <td>0.064417</td>\n",
              "      <td>-0.018843</td>\n",
              "      <td>-0.053171</td>\n",
              "      <td>-0.015869</td>\n",
              "      <td>0.195074</td>\n",
              "      <td>-0.106779</td>\n",
              "    </tr>\n",
              "    <tr>\n",
              "      <th>prevalentStroke</th>\n",
              "      <td>-0.002513</td>\n",
              "      <td>0.050018</td>\n",
              "      <td>-0.037573</td>\n",
              "      <td>-0.035713</td>\n",
              "      <td>0.111601</td>\n",
              "      <td>1.000000</td>\n",
              "      <td>0.065169</td>\n",
              "      <td>0.009423</td>\n",
              "      <td>0.012297</td>\n",
              "      <td>0.060421</td>\n",
              "      <td>0.055189</td>\n",
              "      <td>0.035568</td>\n",
              "      <td>-0.016673</td>\n",
              "      <td>0.015789</td>\n",
              "      <td>0.047684</td>\n",
              "      <td>0.041029</td>\n",
              "      <td>-0.001911</td>\n",
              "      <td>0.016128</td>\n",
              "      <td>-0.013041</td>\n",
              "      <td>-0.008721</td>\n",
              "      <td>0.006588</td>\n",
              "      <td>-0.029924</td>\n",
              "      <td>0.018230</td>\n",
              "      <td>0.003838</td>\n",
              "      <td>-0.012736</td>\n",
              "      <td>-0.025315</td>\n",
              "      <td>0.076081</td>\n",
              "      <td>-0.030795</td>\n",
              "    </tr>\n",
              "    <tr>\n",
              "      <th>prevalentHyp</th>\n",
              "      <td>0.003588</td>\n",
              "      <td>0.305292</td>\n",
              "      <td>-0.105258</td>\n",
              "      <td>-0.067470</td>\n",
              "      <td>0.262955</td>\n",
              "      <td>0.065169</td>\n",
              "      <td>1.000000</td>\n",
              "      <td>0.082030</td>\n",
              "      <td>0.164645</td>\n",
              "      <td>0.697849</td>\n",
              "      <td>0.616753</td>\n",
              "      <td>0.303411</td>\n",
              "      <td>0.142013</td>\n",
              "      <td>0.085776</td>\n",
              "      <td>0.178615</td>\n",
              "      <td>0.091473</td>\n",
              "      <td>-0.221618</td>\n",
              "      <td>0.205073</td>\n",
              "      <td>0.085917</td>\n",
              "      <td>-0.053168</td>\n",
              "      <td>-0.048699</td>\n",
              "      <td>-0.109890</td>\n",
              "      <td>0.136316</td>\n",
              "      <td>0.152896</td>\n",
              "      <td>-0.198846</td>\n",
              "      <td>-0.023742</td>\n",
              "      <td>0.583192</td>\n",
              "      <td>-0.407692</td>\n",
              "    </tr>\n",
              "    <tr>\n",
              "      <th>diabetes</th>\n",
              "      <td>0.011834</td>\n",
              "      <td>0.109321</td>\n",
              "      <td>-0.045308</td>\n",
              "      <td>-0.039436</td>\n",
              "      <td>0.056337</td>\n",
              "      <td>0.009423</td>\n",
              "      <td>0.082030</td>\n",
              "      <td>1.000000</td>\n",
              "      <td>0.047453</td>\n",
              "      <td>0.104393</td>\n",
              "      <td>0.051761</td>\n",
              "      <td>0.093098</td>\n",
              "      <td>0.063370</td>\n",
              "      <td>0.616087</td>\n",
              "      <td>0.093222</td>\n",
              "      <td>0.073022</td>\n",
              "      <td>-0.062735</td>\n",
              "      <td>0.058954</td>\n",
              "      <td>0.010807</td>\n",
              "      <td>0.009153</td>\n",
              "      <td>-0.005595</td>\n",
              "      <td>-0.021840</td>\n",
              "      <td>0.023207</td>\n",
              "      <td>0.001191</td>\n",
              "      <td>-0.027590</td>\n",
              "      <td>0.009455</td>\n",
              "      <td>0.061882</td>\n",
              "      <td>-0.045656</td>\n",
              "    </tr>\n",
              "    <tr>\n",
              "      <th>totChol</th>\n",
              "      <td>-0.067595</td>\n",
              "      <td>0.261443</td>\n",
              "      <td>-0.049945</td>\n",
              "      <td>-0.030600</td>\n",
              "      <td>0.089625</td>\n",
              "      <td>0.012297</td>\n",
              "      <td>0.164645</td>\n",
              "      <td>0.047453</td>\n",
              "      <td>1.000000</td>\n",
              "      <td>0.216375</td>\n",
              "      <td>0.169811</td>\n",
              "      <td>0.119651</td>\n",
              "      <td>0.094795</td>\n",
              "      <td>0.046902</td>\n",
              "      <td>0.089613</td>\n",
              "      <td>0.001141</td>\n",
              "      <td>-0.109294</td>\n",
              "      <td>0.043539</td>\n",
              "      <td>0.093927</td>\n",
              "      <td>-0.055263</td>\n",
              "      <td>-0.261227</td>\n",
              "      <td>-0.646792</td>\n",
              "      <td>0.778156</td>\n",
              "      <td>0.054247</td>\n",
              "      <td>-0.035072</td>\n",
              "      <td>0.066269</td>\n",
              "      <td>0.119165</td>\n",
              "      <td>-0.174540</td>\n",
              "    </tr>\n",
              "    <tr>\n",
              "      <th>sysBP</th>\n",
              "      <td>-0.044515</td>\n",
              "      <td>0.388280</td>\n",
              "      <td>-0.133154</td>\n",
              "      <td>-0.092310</td>\n",
              "      <td>0.269479</td>\n",
              "      <td>0.060421</td>\n",
              "      <td>0.697849</td>\n",
              "      <td>0.104393</td>\n",
              "      <td>0.216375</td>\n",
              "      <td>1.000000</td>\n",
              "      <td>0.785853</td>\n",
              "      <td>0.330484</td>\n",
              "      <td>0.181381</td>\n",
              "      <td>0.132878</td>\n",
              "      <td>0.220108</td>\n",
              "      <td>0.135560</td>\n",
              "      <td>-0.244246</td>\n",
              "      <td>0.184968</td>\n",
              "      <td>0.118544</td>\n",
              "      <td>-0.067853</td>\n",
              "      <td>-0.052221</td>\n",
              "      <td>-0.159823</td>\n",
              "      <td>0.180550</td>\n",
              "      <td>0.095921</td>\n",
              "      <td>-0.117098</td>\n",
              "      <td>0.069432</td>\n",
              "      <td>0.674626</td>\n",
              "      <td>-0.617992</td>\n",
              "    </tr>\n",
              "    <tr>\n",
              "      <th>diaBP</th>\n",
              "      <td>0.053890</td>\n",
              "      <td>0.205191</td>\n",
              "      <td>-0.114118</td>\n",
              "      <td>-0.056202</td>\n",
              "      <td>0.199282</td>\n",
              "      <td>0.055189</td>\n",
              "      <td>0.616753</td>\n",
              "      <td>0.051761</td>\n",
              "      <td>0.169811</td>\n",
              "      <td>0.785853</td>\n",
              "      <td>1.000000</td>\n",
              "      <td>0.383907</td>\n",
              "      <td>0.174918</td>\n",
              "      <td>0.061731</td>\n",
              "      <td>0.148994</td>\n",
              "      <td>0.132222</td>\n",
              "      <td>-0.290832</td>\n",
              "      <td>0.224975</td>\n",
              "      <td>0.138330</td>\n",
              "      <td>-0.062626</td>\n",
              "      <td>-0.029011</td>\n",
              "      <td>-0.136392</td>\n",
              "      <td>0.139279</td>\n",
              "      <td>-0.035214</td>\n",
              "      <td>-0.213100</td>\n",
              "      <td>0.130254</td>\n",
              "      <td>0.715872</td>\n",
              "      <td>-0.600470</td>\n",
              "    </tr>\n",
              "    <tr>\n",
              "      <th>BMI</th>\n",
              "      <td>0.074868</td>\n",
              "      <td>0.136428</td>\n",
              "      <td>-0.165404</td>\n",
              "      <td>-0.090525</td>\n",
              "      <td>0.105128</td>\n",
              "      <td>0.035568</td>\n",
              "      <td>0.303411</td>\n",
              "      <td>0.093098</td>\n",
              "      <td>0.119651</td>\n",
              "      <td>0.330484</td>\n",
              "      <td>0.383907</td>\n",
              "      <td>1.000000</td>\n",
              "      <td>0.071688</td>\n",
              "      <td>0.088133</td>\n",
              "      <td>0.084400</td>\n",
              "      <td>0.334149</td>\n",
              "      <td>-0.693827</td>\n",
              "      <td>0.630403</td>\n",
              "      <td>0.285191</td>\n",
              "      <td>-0.234991</td>\n",
              "      <td>-0.011025</td>\n",
              "      <td>-0.118410</td>\n",
              "      <td>0.107439</td>\n",
              "      <td>0.028231</td>\n",
              "      <td>-0.102704</td>\n",
              "      <td>0.080643</td>\n",
              "      <td>0.266178</td>\n",
              "      <td>-0.260508</td>\n",
              "    </tr>\n",
              "    <tr>\n",
              "      <th>heartRate</th>\n",
              "      <td>-0.115444</td>\n",
              "      <td>-0.005893</td>\n",
              "      <td>0.054924</td>\n",
              "      <td>0.067194</td>\n",
              "      <td>0.010228</td>\n",
              "      <td>-0.016673</td>\n",
              "      <td>0.142013</td>\n",
              "      <td>0.063370</td>\n",
              "      <td>0.094795</td>\n",
              "      <td>0.181381</td>\n",
              "      <td>0.174918</td>\n",
              "      <td>0.071688</td>\n",
              "      <td>1.000000</td>\n",
              "      <td>0.099575</td>\n",
              "      <td>0.022658</td>\n",
              "      <td>0.034026</td>\n",
              "      <td>-0.060732</td>\n",
              "      <td>0.052798</td>\n",
              "      <td>0.010856</td>\n",
              "      <td>0.043712</td>\n",
              "      <td>-0.035996</td>\n",
              "      <td>-0.057744</td>\n",
              "      <td>0.081533</td>\n",
              "      <td>0.013907</td>\n",
              "      <td>-0.046863</td>\n",
              "      <td>0.053499</td>\n",
              "      <td>0.123998</td>\n",
              "      <td>-0.139750</td>\n",
              "    </tr>\n",
              "    <tr>\n",
              "      <th>glucose</th>\n",
              "      <td>0.003130</td>\n",
              "      <td>0.118529</td>\n",
              "      <td>-0.054078</td>\n",
              "      <td>-0.055090</td>\n",
              "      <td>0.052464</td>\n",
              "      <td>0.015789</td>\n",
              "      <td>0.085776</td>\n",
              "      <td>0.616087</td>\n",
              "      <td>0.046902</td>\n",
              "      <td>0.132878</td>\n",
              "      <td>0.061731</td>\n",
              "      <td>0.088133</td>\n",
              "      <td>0.099575</td>\n",
              "      <td>1.000000</td>\n",
              "      <td>0.124117</td>\n",
              "      <td>0.059016</td>\n",
              "      <td>-0.060202</td>\n",
              "      <td>0.050180</td>\n",
              "      <td>0.020197</td>\n",
              "      <td>-0.007983</td>\n",
              "      <td>0.008128</td>\n",
              "      <td>-0.035203</td>\n",
              "      <td>0.021087</td>\n",
              "      <td>0.040191</td>\n",
              "      <td>-0.010541</td>\n",
              "      <td>-0.000213</td>\n",
              "      <td>0.069923</td>\n",
              "      <td>-0.069874</td>\n",
              "    </tr>\n",
              "    <tr>\n",
              "      <th>TenYearCHD</th>\n",
              "      <td>0.096000</td>\n",
              "      <td>0.231584</td>\n",
              "      <td>0.021709</td>\n",
              "      <td>0.055920</td>\n",
              "      <td>0.084740</td>\n",
              "      <td>0.047684</td>\n",
              "      <td>0.178615</td>\n",
              "      <td>0.093222</td>\n",
              "      <td>0.089613</td>\n",
              "      <td>0.220108</td>\n",
              "      <td>0.148994</td>\n",
              "      <td>0.084400</td>\n",
              "      <td>0.022658</td>\n",
              "      <td>0.124117</td>\n",
              "      <td>1.000000</td>\n",
              "      <td>0.025689</td>\n",
              "      <td>-0.079717</td>\n",
              "      <td>0.048004</td>\n",
              "      <td>0.045512</td>\n",
              "      <td>-0.004039</td>\n",
              "      <td>-0.012722</td>\n",
              "      <td>-0.071296</td>\n",
              "      <td>0.070480</td>\n",
              "      <td>0.044087</td>\n",
              "      <td>-0.012758</td>\n",
              "      <td>-0.022482</td>\n",
              "      <td>0.153036</td>\n",
              "      <td>-0.117033</td>\n",
              "    </tr>\n",
              "    <tr>\n",
              "      <th>BMI_level_Extreme obesity</th>\n",
              "      <td>-0.047733</td>\n",
              "      <td>0.036418</td>\n",
              "      <td>-0.033141</td>\n",
              "      <td>-0.029629</td>\n",
              "      <td>0.027078</td>\n",
              "      <td>0.041029</td>\n",
              "      <td>0.091473</td>\n",
              "      <td>0.073022</td>\n",
              "      <td>0.001141</td>\n",
              "      <td>0.135560</td>\n",
              "      <td>0.132222</td>\n",
              "      <td>0.334149</td>\n",
              "      <td>0.034026</td>\n",
              "      <td>0.059016</td>\n",
              "      <td>0.025689</td>\n",
              "      <td>1.000000</td>\n",
              "      <td>-0.068252</td>\n",
              "      <td>-0.028431</td>\n",
              "      <td>-0.065240</td>\n",
              "      <td>-0.008928</td>\n",
              "      <td>-0.032932</td>\n",
              "      <td>0.011813</td>\n",
              "      <td>0.021669</td>\n",
              "      <td>-0.015236</td>\n",
              "      <td>-0.025333</td>\n",
              "      <td>-0.020493</td>\n",
              "      <td>0.108971</td>\n",
              "      <td>-0.047827</td>\n",
              "    </tr>\n",
              "    <tr>\n",
              "      <th>BMI_level_Healthy</th>\n",
              "      <td>-0.141340</td>\n",
              "      <td>-0.129391</td>\n",
              "      <td>0.141454</td>\n",
              "      <td>0.068485</td>\n",
              "      <td>-0.069744</td>\n",
              "      <td>-0.001911</td>\n",
              "      <td>-0.221618</td>\n",
              "      <td>-0.062735</td>\n",
              "      <td>-0.109294</td>\n",
              "      <td>-0.244246</td>\n",
              "      <td>-0.290832</td>\n",
              "      <td>-0.693827</td>\n",
              "      <td>-0.060732</td>\n",
              "      <td>-0.060202</td>\n",
              "      <td>-0.079717</td>\n",
              "      <td>-0.068252</td>\n",
              "      <td>1.000000</td>\n",
              "      <td>-0.328913</td>\n",
              "      <td>-0.754746</td>\n",
              "      <td>-0.103283</td>\n",
              "      <td>-0.003025</td>\n",
              "      <td>0.105866</td>\n",
              "      <td>-0.083799</td>\n",
              "      <td>-0.038409</td>\n",
              "      <td>0.071537</td>\n",
              "      <td>-0.080983</td>\n",
              "      <td>-0.197436</td>\n",
              "      <td>0.226882</td>\n",
              "    </tr>\n",
              "    <tr>\n",
              "      <th>BMI_level_Obesity</th>\n",
              "      <td>-0.023459</td>\n",
              "      <td>0.061335</td>\n",
              "      <td>-0.109368</td>\n",
              "      <td>-0.059399</td>\n",
              "      <td>0.072811</td>\n",
              "      <td>0.016128</td>\n",
              "      <td>0.205073</td>\n",
              "      <td>0.058954</td>\n",
              "      <td>0.043539</td>\n",
              "      <td>0.184968</td>\n",
              "      <td>0.224975</td>\n",
              "      <td>0.630403</td>\n",
              "      <td>0.052798</td>\n",
              "      <td>0.050180</td>\n",
              "      <td>0.048004</td>\n",
              "      <td>-0.028431</td>\n",
              "      <td>-0.328913</td>\n",
              "      <td>1.000000</td>\n",
              "      <td>-0.314395</td>\n",
              "      <td>-0.043023</td>\n",
              "      <td>-0.017983</td>\n",
              "      <td>-0.040115</td>\n",
              "      <td>0.049958</td>\n",
              "      <td>0.020978</td>\n",
              "      <td>-0.091798</td>\n",
              "      <td>0.049342</td>\n",
              "      <td>0.162024</td>\n",
              "      <td>-0.141052</td>\n",
              "    </tr>\n",
              "    <tr>\n",
              "      <th>BMI_level_Overweight</th>\n",
              "      <td>0.177342</td>\n",
              "      <td>0.090769</td>\n",
              "      <td>-0.074334</td>\n",
              "      <td>-0.029519</td>\n",
              "      <td>0.019590</td>\n",
              "      <td>-0.013041</td>\n",
              "      <td>0.085917</td>\n",
              "      <td>0.010807</td>\n",
              "      <td>0.093927</td>\n",
              "      <td>0.118544</td>\n",
              "      <td>0.138330</td>\n",
              "      <td>0.285191</td>\n",
              "      <td>0.010856</td>\n",
              "      <td>0.020197</td>\n",
              "      <td>0.045512</td>\n",
              "      <td>-0.065240</td>\n",
              "      <td>-0.754746</td>\n",
              "      <td>-0.314395</td>\n",
              "      <td>1.000000</td>\n",
              "      <td>-0.098724</td>\n",
              "      <td>0.015406</td>\n",
              "      <td>-0.091840</td>\n",
              "      <td>0.060532</td>\n",
              "      <td>0.026866</td>\n",
              "      <td>-0.007673</td>\n",
              "      <td>0.058919</td>\n",
              "      <td>0.084813</td>\n",
              "      <td>-0.143543</td>\n",
              "    </tr>\n",
              "    <tr>\n",
              "      <th>BMI_level_Underweight</th>\n",
              "      <td>-0.052671</td>\n",
              "      <td>-0.028667</td>\n",
              "      <td>0.039901</td>\n",
              "      <td>0.018828</td>\n",
              "      <td>-0.007036</td>\n",
              "      <td>-0.008721</td>\n",
              "      <td>-0.053168</td>\n",
              "      <td>0.009153</td>\n",
              "      <td>-0.055263</td>\n",
              "      <td>-0.067853</td>\n",
              "      <td>-0.062626</td>\n",
              "      <td>-0.234991</td>\n",
              "      <td>0.043712</td>\n",
              "      <td>-0.007983</td>\n",
              "      <td>-0.004039</td>\n",
              "      <td>-0.008928</td>\n",
              "      <td>-0.103283</td>\n",
              "      <td>-0.043023</td>\n",
              "      <td>-0.098724</td>\n",
              "      <td>1.000000</td>\n",
              "      <td>0.019791</td>\n",
              "      <td>0.042777</td>\n",
              "      <td>-0.053858</td>\n",
              "      <td>0.001305</td>\n",
              "      <td>0.000740</td>\n",
              "      <td>-0.029288</td>\n",
              "      <td>-0.042570</td>\n",
              "      <td>0.067508</td>\n",
              "    </tr>\n",
              "    <tr>\n",
              "      <th>totChol_level_Borderline High</th>\n",
              "      <td>0.076178</td>\n",
              "      <td>-0.042708</td>\n",
              "      <td>-0.010968</td>\n",
              "      <td>0.007042</td>\n",
              "      <td>-0.021939</td>\n",
              "      <td>0.006588</td>\n",
              "      <td>-0.048699</td>\n",
              "      <td>-0.005595</td>\n",
              "      <td>-0.261227</td>\n",
              "      <td>-0.052221</td>\n",
              "      <td>-0.029011</td>\n",
              "      <td>-0.011025</td>\n",
              "      <td>-0.035996</td>\n",
              "      <td>0.008128</td>\n",
              "      <td>-0.012722</td>\n",
              "      <td>-0.032932</td>\n",
              "      <td>-0.003025</td>\n",
              "      <td>-0.017983</td>\n",
              "      <td>0.015406</td>\n",
              "      <td>0.019791</td>\n",
              "      <td>1.000000</td>\n",
              "      <td>-0.369625</td>\n",
              "      <td>-0.649035</td>\n",
              "      <td>0.008286</td>\n",
              "      <td>0.002100</td>\n",
              "      <td>-0.020445</td>\n",
              "      <td>-0.021110</td>\n",
              "      <td>0.035554</td>\n",
              "    </tr>\n",
              "    <tr>\n",
              "      <th>totChol_level_Desirable</th>\n",
              "      <td>-0.003725</td>\n",
              "      <td>-0.233309</td>\n",
              "      <td>0.052551</td>\n",
              "      <td>0.012859</td>\n",
              "      <td>-0.053178</td>\n",
              "      <td>-0.029924</td>\n",
              "      <td>-0.109890</td>\n",
              "      <td>-0.021840</td>\n",
              "      <td>-0.646792</td>\n",
              "      <td>-0.159823</td>\n",
              "      <td>-0.136392</td>\n",
              "      <td>-0.118410</td>\n",
              "      <td>-0.057744</td>\n",
              "      <td>-0.035203</td>\n",
              "      <td>-0.071296</td>\n",
              "      <td>0.011813</td>\n",
              "      <td>0.105866</td>\n",
              "      <td>-0.040115</td>\n",
              "      <td>-0.091840</td>\n",
              "      <td>0.042777</td>\n",
              "      <td>-0.369625</td>\n",
              "      <td>1.000000</td>\n",
              "      <td>-0.466984</td>\n",
              "      <td>-0.043999</td>\n",
              "      <td>0.010322</td>\n",
              "      <td>-0.048096</td>\n",
              "      <td>-0.092876</td>\n",
              "      <td>0.144159</td>\n",
              "    </tr>\n",
              "    <tr>\n",
              "      <th>totChol_level_High</th>\n",
              "      <td>-0.069445</td>\n",
              "      <td>0.231664</td>\n",
              "      <td>-0.032588</td>\n",
              "      <td>-0.017230</td>\n",
              "      <td>0.064417</td>\n",
              "      <td>0.018230</td>\n",
              "      <td>0.136316</td>\n",
              "      <td>0.023207</td>\n",
              "      <td>0.778156</td>\n",
              "      <td>0.180550</td>\n",
              "      <td>0.139279</td>\n",
              "      <td>0.107439</td>\n",
              "      <td>0.081533</td>\n",
              "      <td>0.021087</td>\n",
              "      <td>0.070480</td>\n",
              "      <td>0.021669</td>\n",
              "      <td>-0.083799</td>\n",
              "      <td>0.049958</td>\n",
              "      <td>0.060532</td>\n",
              "      <td>-0.053858</td>\n",
              "      <td>-0.649035</td>\n",
              "      <td>-0.466984</td>\n",
              "      <td>1.000000</td>\n",
              "      <td>0.028138</td>\n",
              "      <td>-0.010450</td>\n",
              "      <td>0.058835</td>\n",
              "      <td>0.096131</td>\n",
              "      <td>-0.151864</td>\n",
              "    </tr>\n",
              "    <tr>\n",
              "      <th>BP_level_0</th>\n",
              "      <td>-0.011863</td>\n",
              "      <td>0.075732</td>\n",
              "      <td>-0.048494</td>\n",
              "      <td>-0.039389</td>\n",
              "      <td>-0.018843</td>\n",
              "      <td>0.003838</td>\n",
              "      <td>0.152896</td>\n",
              "      <td>0.001191</td>\n",
              "      <td>0.054247</td>\n",
              "      <td>0.095921</td>\n",
              "      <td>-0.035214</td>\n",
              "      <td>0.028231</td>\n",
              "      <td>0.013907</td>\n",
              "      <td>0.040191</td>\n",
              "      <td>0.044087</td>\n",
              "      <td>-0.015236</td>\n",
              "      <td>-0.038409</td>\n",
              "      <td>0.020978</td>\n",
              "      <td>0.026866</td>\n",
              "      <td>0.001305</td>\n",
              "      <td>0.008286</td>\n",
              "      <td>-0.043999</td>\n",
              "      <td>0.028138</td>\n",
              "      <td>1.000000</td>\n",
              "      <td>-0.065422</td>\n",
              "      <td>-0.163185</td>\n",
              "      <td>-0.093256</td>\n",
              "      <td>-0.123512</td>\n",
              "    </tr>\n",
              "    <tr>\n",
              "      <th>BP_level_Elevated</th>\n",
              "      <td>-0.014136</td>\n",
              "      <td>-0.008370</td>\n",
              "      <td>0.021995</td>\n",
              "      <td>0.013294</td>\n",
              "      <td>-0.053171</td>\n",
              "      <td>-0.012736</td>\n",
              "      <td>-0.198846</td>\n",
              "      <td>-0.027590</td>\n",
              "      <td>-0.035072</td>\n",
              "      <td>-0.117098</td>\n",
              "      <td>-0.213100</td>\n",
              "      <td>-0.102704</td>\n",
              "      <td>-0.046863</td>\n",
              "      <td>-0.010541</td>\n",
              "      <td>-0.012758</td>\n",
              "      <td>-0.025333</td>\n",
              "      <td>0.071537</td>\n",
              "      <td>-0.091798</td>\n",
              "      <td>-0.007673</td>\n",
              "      <td>0.000740</td>\n",
              "      <td>0.002100</td>\n",
              "      <td>0.010322</td>\n",
              "      <td>-0.010450</td>\n",
              "      <td>-0.065422</td>\n",
              "      <td>1.000000</td>\n",
              "      <td>-0.271333</td>\n",
              "      <td>-0.155059</td>\n",
              "      <td>-0.205367</td>\n",
              "    </tr>\n",
              "    <tr>\n",
              "      <th>BP_level_High blood pressure 1</th>\n",
              "      <td>0.055701</td>\n",
              "      <td>0.041839</td>\n",
              "      <td>-0.040702</td>\n",
              "      <td>-0.008518</td>\n",
              "      <td>-0.015869</td>\n",
              "      <td>-0.025315</td>\n",
              "      <td>-0.023742</td>\n",
              "      <td>0.009455</td>\n",
              "      <td>0.066269</td>\n",
              "      <td>0.069432</td>\n",
              "      <td>0.130254</td>\n",
              "      <td>0.080643</td>\n",
              "      <td>0.053499</td>\n",
              "      <td>-0.000213</td>\n",
              "      <td>-0.022482</td>\n",
              "      <td>-0.020493</td>\n",
              "      <td>-0.080983</td>\n",
              "      <td>0.049342</td>\n",
              "      <td>0.058919</td>\n",
              "      <td>-0.029288</td>\n",
              "      <td>-0.020445</td>\n",
              "      <td>-0.048096</td>\n",
              "      <td>0.058835</td>\n",
              "      <td>-0.163185</td>\n",
              "      <td>-0.271333</td>\n",
              "      <td>1.000000</td>\n",
              "      <td>-0.386771</td>\n",
              "      <td>-0.512257</td>\n",
              "    </tr>\n",
              "    <tr>\n",
              "      <th>BP_level_High blood pressure 2</th>\n",
              "      <td>0.002367</td>\n",
              "      <td>0.208924</td>\n",
              "      <td>-0.070125</td>\n",
              "      <td>-0.045166</td>\n",
              "      <td>0.195074</td>\n",
              "      <td>0.076081</td>\n",
              "      <td>0.583192</td>\n",
              "      <td>0.061882</td>\n",
              "      <td>0.119165</td>\n",
              "      <td>0.674626</td>\n",
              "      <td>0.715872</td>\n",
              "      <td>0.266178</td>\n",
              "      <td>0.123998</td>\n",
              "      <td>0.069923</td>\n",
              "      <td>0.153036</td>\n",
              "      <td>0.108971</td>\n",
              "      <td>-0.197436</td>\n",
              "      <td>0.162024</td>\n",
              "      <td>0.084813</td>\n",
              "      <td>-0.042570</td>\n",
              "      <td>-0.021110</td>\n",
              "      <td>-0.092876</td>\n",
              "      <td>0.096131</td>\n",
              "      <td>-0.093256</td>\n",
              "      <td>-0.155059</td>\n",
              "      <td>-0.386771</td>\n",
              "      <td>1.000000</td>\n",
              "      <td>-0.292740</td>\n",
              "    </tr>\n",
              "    <tr>\n",
              "      <th>BP_level_Normal</th>\n",
              "      <td>-0.048519</td>\n",
              "      <td>-0.251690</td>\n",
              "      <td>0.110724</td>\n",
              "      <td>0.056012</td>\n",
              "      <td>-0.106779</td>\n",
              "      <td>-0.030795</td>\n",
              "      <td>-0.407692</td>\n",
              "      <td>-0.045656</td>\n",
              "      <td>-0.174540</td>\n",
              "      <td>-0.617992</td>\n",
              "      <td>-0.600470</td>\n",
              "      <td>-0.260508</td>\n",
              "      <td>-0.139750</td>\n",
              "      <td>-0.069874</td>\n",
              "      <td>-0.117033</td>\n",
              "      <td>-0.047827</td>\n",
              "      <td>0.226882</td>\n",
              "      <td>-0.141052</td>\n",
              "      <td>-0.143543</td>\n",
              "      <td>0.067508</td>\n",
              "      <td>0.035554</td>\n",
              "      <td>0.144159</td>\n",
              "      <td>-0.151864</td>\n",
              "      <td>-0.123512</td>\n",
              "      <td>-0.205367</td>\n",
              "      <td>-0.512257</td>\n",
              "      <td>-0.292740</td>\n",
              "      <td>1.000000</td>\n",
              "    </tr>\n",
              "  </tbody>\n",
              "</table>\n",
              "</div>"
            ],
            "text/plain": [
              "                                    male  ...  BP_level_Normal\n",
              "male                            1.000000  ...        -0.048519\n",
              "age                            -0.024142  ...        -0.251690\n",
              "currentSmoker                   0.203215  ...         0.110724\n",
              "cigsPerDay                      0.325886  ...         0.056012\n",
              "BPMeds                         -0.052355  ...        -0.106779\n",
              "prevalentStroke                -0.002513  ...        -0.030795\n",
              "prevalentHyp                    0.003588  ...        -0.407692\n",
              "diabetes                        0.011834  ...        -0.045656\n",
              "totChol                        -0.067595  ...        -0.174540\n",
              "sysBP                          -0.044515  ...        -0.617992\n",
              "diaBP                           0.053890  ...        -0.600470\n",
              "BMI                             0.074868  ...        -0.260508\n",
              "heartRate                      -0.115444  ...        -0.139750\n",
              "glucose                         0.003130  ...        -0.069874\n",
              "TenYearCHD                      0.096000  ...        -0.117033\n",
              "BMI_level_Extreme obesity      -0.047733  ...        -0.047827\n",
              "BMI_level_Healthy              -0.141340  ...         0.226882\n",
              "BMI_level_Obesity              -0.023459  ...        -0.141052\n",
              "BMI_level_Overweight            0.177342  ...        -0.143543\n",
              "BMI_level_Underweight          -0.052671  ...         0.067508\n",
              "totChol_level_Borderline High   0.076178  ...         0.035554\n",
              "totChol_level_Desirable        -0.003725  ...         0.144159\n",
              "totChol_level_High             -0.069445  ...        -0.151864\n",
              "BP_level_0                     -0.011863  ...        -0.123512\n",
              "BP_level_Elevated              -0.014136  ...        -0.205367\n",
              "BP_level_High blood pressure 1  0.055701  ...        -0.512257\n",
              "BP_level_High blood pressure 2  0.002367  ...        -0.292740\n",
              "BP_level_Normal                -0.048519  ...         1.000000\n",
              "\n",
              "[28 rows x 28 columns]"
            ]
          },
          "metadata": {},
          "execution_count": 30
        }
      ]
    },
    {
      "cell_type": "code",
      "metadata": {
        "colab": {
          "base_uri": "https://localhost:8080/",
          "height": 258
        },
        "id": "OmyoqrUUBdvP",
        "outputId": "5bb70af1-cec1-487e-a221-518578f55ea5"
      },
      "source": [
        "# Create a feature matrix without `TenYearCHD` and call it `X`:\n",
        "X_eng = df_eng.drop('TenYearCHD', axis=1)\n",
        "# Create a target vector with \"survived\" and call it `y`:\n",
        "y_eng = df_eng['TenYearCHD']\n",
        "# Split dataset randomly by using sklearn package\n",
        "from sklearn.model_selection import train_test_split\n",
        "Xtrain_eng, Xtest_eng, ytrain_eng, ytest_eng = train_test_split(X_eng, y_eng, test_size=0.3, random_state=780)\n",
        "# Set \"liblinear\" as solver for logistic regression\n",
        "from sklearn.linear_model import LogisticRegression\n",
        "model = LogisticRegression(solver='liblinear')\n",
        "# Fit model to the training data\n",
        "model.fit(Xtrain_eng, ytrain_eng)\n",
        "# predict on test data and store the results as y_model\n",
        "y_model_eng = model.predict(Xtest_eng)\n",
        "# Add predit results to test dataset\n",
        "test_eng = Xtest_eng.join(ytest_eng).reset_index()\n",
        "test_eng.join(pd.Series(y_model_eng, name='predicted')).head()"
      ],
      "execution_count": null,
      "outputs": [
        {
          "output_type": "execute_result",
          "data": {
            "text/html": [
              "<div>\n",
              "<style scoped>\n",
              "    .dataframe tbody tr th:only-of-type {\n",
              "        vertical-align: middle;\n",
              "    }\n",
              "\n",
              "    .dataframe tbody tr th {\n",
              "        vertical-align: top;\n",
              "    }\n",
              "\n",
              "    .dataframe thead th {\n",
              "        text-align: right;\n",
              "    }\n",
              "</style>\n",
              "<table border=\"1\" class=\"dataframe\">\n",
              "  <thead>\n",
              "    <tr style=\"text-align: right;\">\n",
              "      <th></th>\n",
              "      <th>index</th>\n",
              "      <th>male</th>\n",
              "      <th>age</th>\n",
              "      <th>currentSmoker</th>\n",
              "      <th>cigsPerDay</th>\n",
              "      <th>BPMeds</th>\n",
              "      <th>prevalentStroke</th>\n",
              "      <th>prevalentHyp</th>\n",
              "      <th>diabetes</th>\n",
              "      <th>totChol</th>\n",
              "      <th>sysBP</th>\n",
              "      <th>diaBP</th>\n",
              "      <th>BMI</th>\n",
              "      <th>heartRate</th>\n",
              "      <th>glucose</th>\n",
              "      <th>BMI_level_Extreme obesity</th>\n",
              "      <th>BMI_level_Healthy</th>\n",
              "      <th>BMI_level_Obesity</th>\n",
              "      <th>BMI_level_Overweight</th>\n",
              "      <th>BMI_level_Underweight</th>\n",
              "      <th>totChol_level_Borderline High</th>\n",
              "      <th>totChol_level_Desirable</th>\n",
              "      <th>totChol_level_High</th>\n",
              "      <th>BP_level_0</th>\n",
              "      <th>BP_level_Elevated</th>\n",
              "      <th>BP_level_High blood pressure 1</th>\n",
              "      <th>BP_level_High blood pressure 2</th>\n",
              "      <th>BP_level_Normal</th>\n",
              "      <th>TenYearCHD</th>\n",
              "      <th>predicted</th>\n",
              "    </tr>\n",
              "  </thead>\n",
              "  <tbody>\n",
              "    <tr>\n",
              "      <th>0</th>\n",
              "      <td>1290</td>\n",
              "      <td>0</td>\n",
              "      <td>40</td>\n",
              "      <td>1</td>\n",
              "      <td>15.0</td>\n",
              "      <td>0.0</td>\n",
              "      <td>0</td>\n",
              "      <td>0</td>\n",
              "      <td>0</td>\n",
              "      <td>244.0</td>\n",
              "      <td>110.0</td>\n",
              "      <td>73.0</td>\n",
              "      <td>21.84</td>\n",
              "      <td>88.0</td>\n",
              "      <td>67.0</td>\n",
              "      <td>0</td>\n",
              "      <td>1</td>\n",
              "      <td>0</td>\n",
              "      <td>0</td>\n",
              "      <td>0</td>\n",
              "      <td>0</td>\n",
              "      <td>0</td>\n",
              "      <td>1</td>\n",
              "      <td>0</td>\n",
              "      <td>0</td>\n",
              "      <td>0</td>\n",
              "      <td>0</td>\n",
              "      <td>1</td>\n",
              "      <td>0</td>\n",
              "      <td>0</td>\n",
              "    </tr>\n",
              "    <tr>\n",
              "      <th>1</th>\n",
              "      <td>2025</td>\n",
              "      <td>0</td>\n",
              "      <td>57</td>\n",
              "      <td>0</td>\n",
              "      <td>0.0</td>\n",
              "      <td>0.0</td>\n",
              "      <td>0</td>\n",
              "      <td>1</td>\n",
              "      <td>0</td>\n",
              "      <td>207.0</td>\n",
              "      <td>175.0</td>\n",
              "      <td>80.0</td>\n",
              "      <td>20.86</td>\n",
              "      <td>83.0</td>\n",
              "      <td>75.0</td>\n",
              "      <td>0</td>\n",
              "      <td>1</td>\n",
              "      <td>0</td>\n",
              "      <td>0</td>\n",
              "      <td>0</td>\n",
              "      <td>1</td>\n",
              "      <td>0</td>\n",
              "      <td>0</td>\n",
              "      <td>1</td>\n",
              "      <td>0</td>\n",
              "      <td>0</td>\n",
              "      <td>0</td>\n",
              "      <td>0</td>\n",
              "      <td>1</td>\n",
              "      <td>0</td>\n",
              "    </tr>\n",
              "    <tr>\n",
              "      <th>2</th>\n",
              "      <td>1477</td>\n",
              "      <td>0</td>\n",
              "      <td>49</td>\n",
              "      <td>0</td>\n",
              "      <td>0.0</td>\n",
              "      <td>0.0</td>\n",
              "      <td>0</td>\n",
              "      <td>0</td>\n",
              "      <td>0</td>\n",
              "      <td>290.0</td>\n",
              "      <td>137.5</td>\n",
              "      <td>92.0</td>\n",
              "      <td>24.46</td>\n",
              "      <td>80.0</td>\n",
              "      <td>74.0</td>\n",
              "      <td>0</td>\n",
              "      <td>1</td>\n",
              "      <td>0</td>\n",
              "      <td>0</td>\n",
              "      <td>0</td>\n",
              "      <td>0</td>\n",
              "      <td>0</td>\n",
              "      <td>1</td>\n",
              "      <td>0</td>\n",
              "      <td>0</td>\n",
              "      <td>1</td>\n",
              "      <td>0</td>\n",
              "      <td>0</td>\n",
              "      <td>0</td>\n",
              "      <td>0</td>\n",
              "    </tr>\n",
              "    <tr>\n",
              "      <th>3</th>\n",
              "      <td>603</td>\n",
              "      <td>0</td>\n",
              "      <td>61</td>\n",
              "      <td>1</td>\n",
              "      <td>20.0</td>\n",
              "      <td>0.0</td>\n",
              "      <td>0</td>\n",
              "      <td>1</td>\n",
              "      <td>0</td>\n",
              "      <td>245.0</td>\n",
              "      <td>140.0</td>\n",
              "      <td>73.0</td>\n",
              "      <td>30.74</td>\n",
              "      <td>90.0</td>\n",
              "      <td>91.0</td>\n",
              "      <td>0</td>\n",
              "      <td>0</td>\n",
              "      <td>1</td>\n",
              "      <td>0</td>\n",
              "      <td>0</td>\n",
              "      <td>0</td>\n",
              "      <td>0</td>\n",
              "      <td>1</td>\n",
              "      <td>1</td>\n",
              "      <td>0</td>\n",
              "      <td>0</td>\n",
              "      <td>0</td>\n",
              "      <td>0</td>\n",
              "      <td>1</td>\n",
              "      <td>0</td>\n",
              "    </tr>\n",
              "    <tr>\n",
              "      <th>4</th>\n",
              "      <td>2380</td>\n",
              "      <td>1</td>\n",
              "      <td>59</td>\n",
              "      <td>1</td>\n",
              "      <td>30.0</td>\n",
              "      <td>0.0</td>\n",
              "      <td>0</td>\n",
              "      <td>0</td>\n",
              "      <td>0</td>\n",
              "      <td>235.0</td>\n",
              "      <td>136.0</td>\n",
              "      <td>96.0</td>\n",
              "      <td>28.61</td>\n",
              "      <td>54.0</td>\n",
              "      <td>85.0</td>\n",
              "      <td>0</td>\n",
              "      <td>0</td>\n",
              "      <td>0</td>\n",
              "      <td>1</td>\n",
              "      <td>0</td>\n",
              "      <td>1</td>\n",
              "      <td>0</td>\n",
              "      <td>0</td>\n",
              "      <td>0</td>\n",
              "      <td>0</td>\n",
              "      <td>1</td>\n",
              "      <td>0</td>\n",
              "      <td>0</td>\n",
              "      <td>0</td>\n",
              "      <td>0</td>\n",
              "    </tr>\n",
              "  </tbody>\n",
              "</table>\n",
              "</div>"
            ],
            "text/plain": [
              "   index  male  age  ...  BP_level_Normal  TenYearCHD  predicted\n",
              "0   1290     0   40  ...                1           0          0\n",
              "1   2025     0   57  ...                0           1          0\n",
              "2   1477     0   49  ...                0           0          0\n",
              "3    603     0   61  ...                0           1          0\n",
              "4   2380     1   59  ...                0           0          0\n",
              "\n",
              "[5 rows x 30 columns]"
            ]
          },
          "metadata": {},
          "execution_count": 31
        }
      ]
    },
    {
      "cell_type": "markdown",
      "metadata": {
        "id": "Al7AgWEnGE0w"
      },
      "source": [
        "#### Improved model's accuracy, sensitivity and specificity\n",
        "\n",
        "\n",
        "By adding new variables, accuracy, sensitivity, mean absolute error and specificity were improved by 1%, 3% , 0.1%, 1%, which were huge improvement."
      ]
    },
    {
      "cell_type": "code",
      "metadata": {
        "colab": {
          "base_uri": "https://localhost:8080/"
        },
        "id": "3b_GAmRaB1u4",
        "outputId": "0c5008cc-158a-45ba-c033-a3a7c65216e5"
      },
      "source": [
        "# Calculate accuracy\n",
        "from sklearn.metrics import accuracy_score\n",
        "accuracy_score(ytest_eng, y_model_eng)"
      ],
      "execution_count": null,
      "outputs": [
        {
          "output_type": "execute_result",
          "data": {
            "text/plain": [
              "0.8516873889875666"
            ]
          },
          "metadata": {},
          "execution_count": 32
        }
      ]
    },
    {
      "cell_type": "code",
      "metadata": {
        "colab": {
          "base_uri": "https://localhost:8080/"
        },
        "id": "O89aZwMjB7H0",
        "outputId": "36d5243f-56f3-46de-8631-c8561eaf0d93"
      },
      "source": [
        "# Calculate sensitivity\n",
        "P = sum(ytest_eng == 1)\n",
        "TP = sum((ytest_eng == 1) & (y_model_eng == 1))\n",
        "TP/P"
      ],
      "execution_count": null,
      "outputs": [
        {
          "output_type": "execute_result",
          "data": {
            "text/plain": [
              "0.05172413793103448"
            ]
          },
          "metadata": {},
          "execution_count": 33
        }
      ]
    },
    {
      "cell_type": "code",
      "metadata": {
        "colab": {
          "base_uri": "https://localhost:8080/"
        },
        "id": "lazPYhC8CBuO",
        "outputId": "3daecbca-73f1-4d40-926e-067644ed186c"
      },
      "source": [
        "# Calculate specificity\n",
        "N = sum(ytest_eng == 0)\n",
        "TN = sum((ytest_eng == 0) & (y_model_eng == 0))\n",
        "TN/N"
      ],
      "execution_count": null,
      "outputs": [
        {
          "output_type": "execute_result",
          "data": {
            "text/plain": [
              "0.9978991596638656"
            ]
          },
          "metadata": {},
          "execution_count": 34
        }
      ]
    },
    {
      "cell_type": "code",
      "metadata": {
        "colab": {
          "base_uri": "https://localhost:8080/"
        },
        "id": "pZ_bn_SoZD_i",
        "outputId": "7d83b2b7-610b-4685-cc30-56eebcd3f99f"
      },
      "source": [
        "# Calculating the mean absolute error\n",
        "from sklearn.metrics import mean_absolute_error\n",
        "mean_absolute_error(ytest_eng, y_model_eng)"
      ],
      "execution_count": null,
      "outputs": [
        {
          "output_type": "execute_result",
          "data": {
            "text/plain": [
              "0.1483126110124334"
            ]
          },
          "metadata": {},
          "execution_count": 35
        }
      ]
    },
    {
      "cell_type": "markdown",
      "metadata": {
        "id": "zsDenTOFJdsW"
      },
      "source": [
        "\n",
        "At the same time, I tried to delete BMI, totChol, sysBP and diaBP, because the variables we created were derived from the data of these variables. However, I found that if these variables were deleted, the performance of the model would be limited, with accuracy, sensitivity increasing by 0.5%, 2%."
      ]
    },
    {
      "cell_type": "markdown",
      "metadata": {
        "id": "wGTeQ-TRHs8R"
      },
      "source": [
        "### Try different model: Random Forest"
      ]
    },
    {
      "cell_type": "markdown",
      "metadata": {
        "id": "_XrtIgnSKv2Q"
      },
      "source": [
        "#### Original database: df"
      ]
    },
    {
      "cell_type": "markdown",
      "metadata": {
        "id": "Y9HlY5FUXUPa"
      },
      "source": [
        "Firstly, random Forest model was used for the dataset with no new variables added.\n",
        "\n",
        "The original performance is:\n",
        "* Accuracy: 0.8463587921847247\n",
        "* Sensitivity: 0.022988505747126436\n",
        "* Specificity: 0.9968487394957983\n",
        "* Mean absolute error: 0.15364120781527532\n"
      ]
    },
    {
      "cell_type": "code",
      "metadata": {
        "id": "fu8OMeEcUVGf"
      },
      "source": [
        "# Run Random Forest model\n",
        "from sklearn.ensemble import RandomForestClassifier\n",
        "regressor = RandomForestClassifier(n_estimators=20, random_state=0)\n",
        "regressor.fit(Xtrain, ytrain)\n",
        "y_model = regressor.predict(Xtest)"
      ],
      "execution_count": null,
      "outputs": []
    },
    {
      "cell_type": "code",
      "metadata": {
        "colab": {
          "base_uri": "https://localhost:8080/"
        },
        "id": "RLqZAdhZU3RC",
        "outputId": "63588308-0a3a-4d03-96fc-4fdffd5b3664"
      },
      "source": [
        "# Calculate accuracy\n",
        "from sklearn.metrics import accuracy_score\n",
        "accuracy_score(ytest, y_model)"
      ],
      "execution_count": null,
      "outputs": [
        {
          "output_type": "execute_result",
          "data": {
            "text/plain": [
              "0.8481349911190054"
            ]
          },
          "metadata": {},
          "execution_count": 37
        }
      ]
    },
    {
      "cell_type": "code",
      "metadata": {
        "colab": {
          "base_uri": "https://localhost:8080/"
        },
        "id": "b33gu-bNZrU4",
        "outputId": "d0e5e512-b6cc-4c43-eb5c-28d829489fa0"
      },
      "source": [
        "# Calculate sensitivity\n",
        "P = sum(ytest == 1)\n",
        "TP = sum((ytest == 1) & (y_model == 1))\n",
        "TP/P"
      ],
      "execution_count": null,
      "outputs": [
        {
          "output_type": "execute_result",
          "data": {
            "text/plain": [
              "0.07471264367816093"
            ]
          },
          "metadata": {},
          "execution_count": 38
        }
      ]
    },
    {
      "cell_type": "code",
      "metadata": {
        "colab": {
          "base_uri": "https://localhost:8080/"
        },
        "id": "jHpApf1JZtiY",
        "outputId": "da8628d8-e7f9-4108-cd32-444d30e64072"
      },
      "source": [
        "# Calculate specificity\n",
        "N = sum(ytest == 0)\n",
        "TN = sum((ytest == 0) & (y_model == 0))\n",
        "TN/N"
      ],
      "execution_count": null,
      "outputs": [
        {
          "output_type": "execute_result",
          "data": {
            "text/plain": [
              "0.9894957983193278"
            ]
          },
          "metadata": {},
          "execution_count": 39
        }
      ]
    },
    {
      "cell_type": "code",
      "metadata": {
        "colab": {
          "base_uri": "https://localhost:8080/"
        },
        "id": "otZ0QD5UZwGk",
        "outputId": "56f28592-94b5-4d1c-ecc0-3bc00bd0af59"
      },
      "source": [
        "# Calculating the mean absolute error\n",
        "from sklearn.metrics import mean_absolute_error\n",
        "mean_absolute_error(ytest, y_model)"
      ],
      "execution_count": null,
      "outputs": [
        {
          "output_type": "execute_result",
          "data": {
            "text/plain": [
              "0.15186500888099466"
            ]
          },
          "metadata": {},
          "execution_count": 40
        }
      ]
    },
    {
      "cell_type": "markdown",
      "metadata": {
        "id": "WkaRQnF2aIhL"
      },
      "source": [
        "Compared with previous logistic regression results, accuracy, sensitivity and specificity were reduced by 0.2%, 5% and 0.5%. Although accuracy has decreased, mean absolute error has decreased by 0.2%.\n",
        "\n",
        "In general, this is a good improvement, because the sensitivity has been improved a lot."
      ]
    },
    {
      "cell_type": "markdown",
      "metadata": {
        "id": "oOI4xIbHKzgo"
      },
      "source": [
        "#### Improved database: df_eng\n",
        "\n",
        "Secondly, random Forest model was used for the dataset with new variables added.\n",
        "\n",
        "The original performance is:\n",
        "* Accuracy: 0.8516873889875666\n",
        "* Sensitivity: 0.05172413793103448\n",
        "* Specificity: 0.9978991596638656\n",
        "* Mean absolute error: 0.1483126110124334\n"
      ]
    },
    {
      "cell_type": "code",
      "metadata": {
        "id": "NCPR4a7jbIzm"
      },
      "source": [
        "# Run Random Forest model\n",
        "from sklearn.ensemble import RandomForestClassifier\n",
        "regressor = RandomForestClassifier(n_estimators=20, random_state=0)\n",
        "regressor.fit(Xtrain_eng, ytrain_eng)\n",
        "y_model_eng = regressor.predict(Xtest_eng)"
      ],
      "execution_count": null,
      "outputs": []
    },
    {
      "cell_type": "code",
      "metadata": {
        "colab": {
          "base_uri": "https://localhost:8080/"
        },
        "id": "dJg0dk9CbXjC",
        "outputId": "958345d9-8e39-48bb-dd00-24ee3771725d"
      },
      "source": [
        "# Calculate accuracy\n",
        "from sklearn.metrics import accuracy_score\n",
        "accuracy_score(ytest_eng, y_model_eng)"
      ],
      "execution_count": null,
      "outputs": [
        {
          "output_type": "execute_result",
          "data": {
            "text/plain": [
              "0.8374777975133215"
            ]
          },
          "metadata": {},
          "execution_count": 42
        }
      ]
    },
    {
      "cell_type": "code",
      "metadata": {
        "colab": {
          "base_uri": "https://localhost:8080/"
        },
        "id": "-wSbn9Xuba2S",
        "outputId": "889904a8-b726-48db-a9ec-9ccb4b2d47b0"
      },
      "source": [
        "# Calculate sensitivity\n",
        "P = sum(ytest_eng == 1)\n",
        "TP = sum((ytest_eng == 1) & (y_model_eng == 1))\n",
        "TP/P"
      ],
      "execution_count": null,
      "outputs": [
        {
          "output_type": "execute_result",
          "data": {
            "text/plain": [
              "0.05747126436781609"
            ]
          },
          "metadata": {},
          "execution_count": 43
        }
      ]
    },
    {
      "cell_type": "code",
      "metadata": {
        "colab": {
          "base_uri": "https://localhost:8080/"
        },
        "id": "Kf-xHEs7bjGI",
        "outputId": "5a782dc3-1beb-4aaa-ceda-40dbb7b4f66e"
      },
      "source": [
        "# Calculate specificity\n",
        "N = sum(ytest_eng == 0)\n",
        "TN = sum((ytest_eng == 0) & (y_model_eng == 0))\n",
        "TN/N"
      ],
      "execution_count": null,
      "outputs": [
        {
          "output_type": "execute_result",
          "data": {
            "text/plain": [
              "0.9800420168067226"
            ]
          },
          "metadata": {},
          "execution_count": 44
        }
      ]
    },
    {
      "cell_type": "code",
      "metadata": {
        "colab": {
          "base_uri": "https://localhost:8080/"
        },
        "id": "foVY8zHxbm44",
        "outputId": "2847e623-074e-47c8-de86-2502a191990e"
      },
      "source": [
        "# Calculating the mean absolute error\n",
        "from sklearn.metrics import mean_absolute_error\n",
        "mean_absolute_error(ytest_eng, y_model_eng)"
      ],
      "execution_count": null,
      "outputs": [
        {
          "output_type": "execute_result",
          "data": {
            "text/plain": [
              "0.1625222024866785"
            ]
          },
          "metadata": {},
          "execution_count": 45
        }
      ]
    },
    {
      "cell_type": "markdown",
      "metadata": {
        "id": "8TxIbtq6cJcM"
      },
      "source": [
        "It seems that random forest is not a suitable model for new data. Accuracy, sensitivity, specificity and mean absolute error were not enhanced, but decreased."
      ]
    },
    {
      "cell_type": "markdown",
      "metadata": {
        "id": "52-Y__racz4N"
      },
      "source": [
        "## Conclusion\n",
        "\n",
        "By comparing the models, I found that the performance of a dataset varies from model to model. \n",
        "\n",
        "For example, in Logistic Regression, we added new variables to improve performance. However, using this data set in the Random Forest model does not perform as well as the data set without adding data.\n",
        "\n",
        "Therefore, it is not necessary to increase or decrease variables to improve model performance, which is relatively speaking. There is a suitable model for each data set. Therefore, when selecting models and data sets, performance is one of the factors to be considered, and the number of data variables should also be considered to avoid overfitting."
      ]
    }
  ]
}